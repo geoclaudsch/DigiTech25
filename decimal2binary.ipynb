{
  "nbformat": 4,
  "nbformat_minor": 0,
  "metadata": {
    "colab": {
      "provenance": []
    },
    "kernelspec": {
      "name": "python3",
      "display_name": "Python 3"
    },
    "language_info": {
      "name": "python"
    }
  },
  "cells": [
    {
      "cell_type": "markdown",
      "source": [
        "# Simple Funktion zur Umrechnung reeller Dezimalzahlen in das binäre Zahlenformat"
      ],
      "metadata": {
        "id": "edX2QEfW8Jeh"
      }
    },
    {
      "cell_type": "code",
      "source": [
        "def dezimal_zu_binaer(zahl, nachkomma_stellen=5):\n",
        "    # Ganzzahl- und Nachkomma-Teil trennen\n",
        "    ganzzahl = int(zahl)\n",
        "    nachkomma = zahl - ganzzahl\n",
        "\n",
        "    # 1. Modulo-Verfahren für Ganzzahlteil / vor dem Komma\n",
        "    if ganzzahl == 0:\n",
        "        binaer_ganz = '0'\n",
        "    else:\n",
        "        binaer_ganz = ''\n",
        "        while ganzzahl > 0:\n",
        "            rest = ganzzahl % 2\n",
        "            binaer_ganz = str(rest) + binaer_ganz\n",
        "            ganzzahl //= 2\n",
        "\n",
        "    # 2. Multiplikationsverfahren für Nachkommateil\n",
        "    binaer_nachkomma = ''\n",
        "    count = 0\n",
        "    while nachkomma > 0 and count < nachkomma_stellen:\n",
        "        nachkomma *= 2\n",
        "        bit = int(nachkomma)\n",
        "        binaer_nachkomma += str(bit)\n",
        "        nachkomma -= bit\n",
        "        count += 1\n",
        "\n",
        "    # Ergebnis zusammenbauen\n",
        "    if binaer_nachkomma:\n",
        "        return f\"{binaer_ganz}.{binaer_nachkomma}\"\n",
        "    else:\n",
        "        return binaer_ganz"
      ],
      "metadata": {
        "id": "TI5l3Z9r7Aec"
      },
      "execution_count": 3,
      "outputs": []
    },
    {
      "cell_type": "code",
      "source": [
        "print(dezimal_zu_binaer(13.625))\n",
        "print(dezimal_zu_binaer(2025.75))\n",
        "print(dezimal_zu_binaer(0.25))\n",
        "print(dezimal_zu_binaer(1278.25))"
      ],
      "metadata": {
        "colab": {
          "base_uri": "https://localhost:8080/"
        },
        "id": "lmZ2GzyQ7QWA",
        "outputId": "433ea268-5b8c-482e-99f4-3c207c940c78"
      },
      "execution_count": 5,
      "outputs": [
        {
          "output_type": "stream",
          "name": "stdout",
          "text": [
            "1101.101\n",
            "11111101001.11\n",
            "0.01\n",
            "10011111110.01\n"
          ]
        }
      ]
    }
  ]
}