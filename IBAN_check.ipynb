{
 "cells": [
  {
   "cell_type": "markdown",
   "id": "db005876-6b80-4771-b21a-bf92229be4c0",
   "metadata": {},
   "source": [
    "# Funktion zur Bestimmung der IBAN Prüfziffern"
   ]
  },
  {
   "cell_type": "code",
   "execution_count": 1,
   "id": "35b69713-ef97-4757-951f-a83f1a937f5c",
   "metadata": {},
   "outputs": [
    {
     "name": "stdout",
     "output_type": "stream",
     "text": [
      "IBAN: DE75860555921888527070\n"
     ]
    }
   ],
   "source": [
    "def calculate_iban(blz: str, konto: str) -> str:\n",
    "    \"\"\"\n",
    "    Berechnet eine deutsche IBAN aus Bankleitzahl und Kontonummer.\n",
    "\n",
    "    Parameter:\n",
    "    blz   : Bankleitzahl (8-stellig)\n",
    "    konto : Kontonummer (max. 10-stellig, wird ggf. mit führenden Nullen ergänzt)\n",
    "\n",
    "    Rückgabe:\n",
    "    Vollständige IBAN als String\n",
    "    \"\"\"\n",
    "    # Basisdaten\n",
    "    laendercode = 'DE'\n",
    "    laendercode_zahlen = '1314'  # D = 13, E = 14\n",
    "\n",
    "    # Stelle sicher, dass BLZ und Konto korrekt formatiert sind\n",
    "    blz = blz.zfill(8)\n",
    "    konto = konto.zfill(10)\n",
    "\n",
    "    # Vorläufige IBAN ohne Prüfziffer\n",
    "    bban = blz + konto\n",
    "    pruef_iban = bban + laendercode_zahlen + '00'  # \"00\" als Platzhalter für Prüfziffer\n",
    "\n",
    "    # Modulo 97 (nach IBAN-Standard, dabei String als Ganzzahl interpretieren)\n",
    "    mod = int(pruef_iban) % 97\n",
    "    pruefziffer = 98 - mod\n",
    "\n",
    "    # Zusammensetzen der finalen IBAN\n",
    "    iban = f'{laendercode}{pruefziffer:02d}{blz}{konto}'\n",
    "    return iban\n",
    "\n",
    "# Beispiel\n",
    "blz = '86055592'\n",
    "konto = '1888527070'\n",
    "iban = calculate_iban(blz, konto)\n",
    "print(\"IBAN:\", iban)\n"
   ]
  }
 ],
 "metadata": {
  "kernelspec": {
   "display_name": "Python 3 (Spyder)",
   "language": "python3",
   "name": "python3"
  },
  "language_info": {
   "codemirror_mode": {
    "name": "ipython",
    "version": 3
   },
   "file_extension": ".py",
   "mimetype": "text/x-python",
   "name": "python",
   "nbconvert_exporter": "python",
   "pygments_lexer": "ipython3",
   "version": "3.11.4"
  }
 },
 "nbformat": 4,
 "nbformat_minor": 5
}
