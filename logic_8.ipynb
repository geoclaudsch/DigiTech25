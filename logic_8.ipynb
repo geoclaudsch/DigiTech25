{
  "nbformat": 4,
  "nbformat_minor": 0,
  "metadata": {
    "colab": {
      "provenance": []
    },
    "kernelspec": {
      "name": "python3",
      "display_name": "Python 3"
    },
    "language_info": {
      "name": "python"
    }
  },
  "cells": [
    {
      "cell_type": "code",
      "execution_count": null,
      "metadata": {
        "colab": {
          "base_uri": "https://localhost:8080/"
        },
        "id": "ocIqh2QY_VNF",
        "outputId": "2177a900-935e-427e-94c3-c6ffa5ef69c8"
      },
      "outputs": [
        {
          "output_type": "stream",
          "name": "stdout",
          "text": [
            "Logische Funktionen in Python\n",
            "\n",
            "A      B      C      AND    OR     XOR    NOT A  NOT B  NOT C \n",
            "--------------------------------------------------------------\n",
            "True   True   True   True   True   True   False  False  False \n",
            "True   True   False  False  True   False  False  False  True  \n",
            "True   False  True   False  True   False  False  True   False \n",
            "True   False  False  False  True   True   False  True   True  \n",
            "False  True   True   False  True   False  True   False  False \n",
            "False  True   False  False  True   True   True   False  True  \n",
            "False  False  True   False  True   True   True   True   False \n",
            "False  False  False  False  False  False  True   True   True  \n"
          ]
        }
      ],
      "source": [
        "def logic_test():\n",
        "    values = [True, False]\n",
        "\n",
        "    print(\"Logische Funktionen in Python\\n\")\n",
        "    print(f\"{'A':<6} {'B':<6} {'C': <6} {'AND':<6} {'OR':<6} {'XOR':<6} {'NOT A':<6} {'NOT B':<6} {'NOT C':<6}\")\n",
        "    print(\"-\" * 62)\n",
        "\n",
        "    for a in values:\n",
        "        for b in values:\n",
        "          for c in values:\n",
        "            and_result = a and b and c\n",
        "            or_result = a or b or c\n",
        "            xor_result = a ^ b ^ c # XOR mit Bit-Operator ^\n",
        "            not_a = not a\n",
        "            not_b = not b\n",
        "            not_c = not c\n",
        "\n",
        "            print(f\"{str(a):<6} {str(b):<6} {str(c):<6} {str(and_result):<6} {str(or_result):<6} {str(xor_result):<6} {str(not_a):<6} {str(not_b):<6} {str(not_c):<6}\")\n",
        "\n",
        "if __name__ == \"__main__\":\n",
        "    logic_test()"
      ]
    },
    {
      "cell_type": "markdown",
      "source": [
        "**Achtung:** XOR-Verknüpfung von drei Variablen - Interpretationsspielraum\n",
        "\n",
        "* Sinnvolle Interpretation 1: True, wenn eine ungerade Zahl von Bedingungen zutrifft (siehe Wahrheitstabelle im Beispiel)\n",
        "* Sinnvolle Interpretation 2 : True, wenn genau eine Bedingung zutrifft (also nicht zwei oder drei) ▶ (A and not B and not C) or\n",
        "(not A and B and not C) or\n",
        "(not A and not B and C)\n"
      ],
      "metadata": {
        "id": "toucY9HLs79R"
      }
    },
    {
      "cell_type": "code",
      "source": [
        "a = True\n",
        "b = False\n",
        "result = (not a or b) and (a != b)\n",
        "result2 = (a or b) and (a != b)\n",
        "print(result2)"
      ],
      "metadata": {
        "colab": {
          "base_uri": "https://localhost:8080/"
        },
        "id": "YG2am2tmAFxL",
        "outputId": "38f1473a-04cd-40c0-c54d-8cf9320b4323"
      },
      "execution_count": null,
      "outputs": [
        {
          "output_type": "stream",
          "name": "stdout",
          "text": [
            "True\n"
          ]
        }
      ]
    }
  ]
}