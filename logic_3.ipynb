{
  "nbformat": 4,
  "nbformat_minor": 0,
  "metadata": {
    "colab": {
      "provenance": []
    },
    "kernelspec": {
      "name": "python3",
      "display_name": "Python 3"
    },
    "language_info": {
      "name": "python"
    },
    "widgets": {
      "application/vnd.jupyter.widget-state+json": {
        "504c1f500f0e49b59694f0aa00f00829": {
          "model_module": "@jupyter-widgets/controls",
          "model_name": "DropdownModel",
          "model_module_version": "1.5.0",
          "state": {
            "_dom_classes": [],
            "_model_module": "@jupyter-widgets/controls",
            "_model_module_version": "1.5.0",
            "_model_name": "DropdownModel",
            "_options_labels": [
              "True",
              "False"
            ],
            "_view_count": null,
            "_view_module": "@jupyter-widgets/controls",
            "_view_module_version": "1.5.0",
            "_view_name": "DropdownView",
            "description": "A:",
            "description_tooltip": null,
            "disabled": false,
            "index": 0,
            "layout": "IPY_MODEL_42262be9d338492e83536ad9107d3827",
            "style": "IPY_MODEL_19e914c987b14c8cb0daef39108b07b3"
          }
        },
        "42262be9d338492e83536ad9107d3827": {
          "model_module": "@jupyter-widgets/base",
          "model_name": "LayoutModel",
          "model_module_version": "1.2.0",
          "state": {
            "_model_module": "@jupyter-widgets/base",
            "_model_module_version": "1.2.0",
            "_model_name": "LayoutModel",
            "_view_count": null,
            "_view_module": "@jupyter-widgets/base",
            "_view_module_version": "1.2.0",
            "_view_name": "LayoutView",
            "align_content": null,
            "align_items": null,
            "align_self": null,
            "border": null,
            "bottom": null,
            "display": null,
            "flex": null,
            "flex_flow": null,
            "grid_area": null,
            "grid_auto_columns": null,
            "grid_auto_flow": null,
            "grid_auto_rows": null,
            "grid_column": null,
            "grid_gap": null,
            "grid_row": null,
            "grid_template_areas": null,
            "grid_template_columns": null,
            "grid_template_rows": null,
            "height": null,
            "justify_content": null,
            "justify_items": null,
            "left": null,
            "margin": null,
            "max_height": null,
            "max_width": null,
            "min_height": null,
            "min_width": null,
            "object_fit": null,
            "object_position": null,
            "order": null,
            "overflow": null,
            "overflow_x": null,
            "overflow_y": null,
            "padding": null,
            "right": null,
            "top": null,
            "visibility": null,
            "width": null
          }
        },
        "19e914c987b14c8cb0daef39108b07b3": {
          "model_module": "@jupyter-widgets/controls",
          "model_name": "DescriptionStyleModel",
          "model_module_version": "1.5.0",
          "state": {
            "_model_module": "@jupyter-widgets/controls",
            "_model_module_version": "1.5.0",
            "_model_name": "DescriptionStyleModel",
            "_view_count": null,
            "_view_module": "@jupyter-widgets/base",
            "_view_module_version": "1.2.0",
            "_view_name": "StyleView",
            "description_width": ""
          }
        },
        "8bee85a2705c49cba8526559289363ce": {
          "model_module": "@jupyter-widgets/controls",
          "model_name": "DropdownModel",
          "model_module_version": "1.5.0",
          "state": {
            "_dom_classes": [],
            "_model_module": "@jupyter-widgets/controls",
            "_model_module_version": "1.5.0",
            "_model_name": "DropdownModel",
            "_options_labels": [
              "True",
              "False"
            ],
            "_view_count": null,
            "_view_module": "@jupyter-widgets/controls",
            "_view_module_version": "1.5.0",
            "_view_name": "DropdownView",
            "description": "B:",
            "description_tooltip": null,
            "disabled": false,
            "index": 1,
            "layout": "IPY_MODEL_308571c6d9df4fe3a316ddf2b16e4e30",
            "style": "IPY_MODEL_de6e2021d2bc413db153cdc8fd78cebd"
          }
        },
        "308571c6d9df4fe3a316ddf2b16e4e30": {
          "model_module": "@jupyter-widgets/base",
          "model_name": "LayoutModel",
          "model_module_version": "1.2.0",
          "state": {
            "_model_module": "@jupyter-widgets/base",
            "_model_module_version": "1.2.0",
            "_model_name": "LayoutModel",
            "_view_count": null,
            "_view_module": "@jupyter-widgets/base",
            "_view_module_version": "1.2.0",
            "_view_name": "LayoutView",
            "align_content": null,
            "align_items": null,
            "align_self": null,
            "border": null,
            "bottom": null,
            "display": null,
            "flex": null,
            "flex_flow": null,
            "grid_area": null,
            "grid_auto_columns": null,
            "grid_auto_flow": null,
            "grid_auto_rows": null,
            "grid_column": null,
            "grid_gap": null,
            "grid_row": null,
            "grid_template_areas": null,
            "grid_template_columns": null,
            "grid_template_rows": null,
            "height": null,
            "justify_content": null,
            "justify_items": null,
            "left": null,
            "margin": null,
            "max_height": null,
            "max_width": null,
            "min_height": null,
            "min_width": null,
            "object_fit": null,
            "object_position": null,
            "order": null,
            "overflow": null,
            "overflow_x": null,
            "overflow_y": null,
            "padding": null,
            "right": null,
            "top": null,
            "visibility": null,
            "width": null
          }
        },
        "de6e2021d2bc413db153cdc8fd78cebd": {
          "model_module": "@jupyter-widgets/controls",
          "model_name": "DescriptionStyleModel",
          "model_module_version": "1.5.0",
          "state": {
            "_model_module": "@jupyter-widgets/controls",
            "_model_module_version": "1.5.0",
            "_model_name": "DescriptionStyleModel",
            "_view_count": null,
            "_view_module": "@jupyter-widgets/base",
            "_view_module_version": "1.2.0",
            "_view_name": "StyleView",
            "description_width": ""
          }
        },
        "0420eb4ddcd44746b832ecb4bc6bfe39": {
          "model_module": "@jupyter-widgets/controls",
          "model_name": "ButtonModel",
          "model_module_version": "1.5.0",
          "state": {
            "_dom_classes": [],
            "_model_module": "@jupyter-widgets/controls",
            "_model_module_version": "1.5.0",
            "_model_name": "ButtonModel",
            "_view_count": null,
            "_view_module": "@jupyter-widgets/controls",
            "_view_module_version": "1.5.0",
            "_view_name": "ButtonView",
            "button_style": "",
            "description": "Auswerten",
            "disabled": false,
            "icon": "",
            "layout": "IPY_MODEL_55f33af9839e4acf8d1ee238a225f50f",
            "style": "IPY_MODEL_c113ac2838294f44b2d7823eba60f797",
            "tooltip": ""
          }
        },
        "55f33af9839e4acf8d1ee238a225f50f": {
          "model_module": "@jupyter-widgets/base",
          "model_name": "LayoutModel",
          "model_module_version": "1.2.0",
          "state": {
            "_model_module": "@jupyter-widgets/base",
            "_model_module_version": "1.2.0",
            "_model_name": "LayoutModel",
            "_view_count": null,
            "_view_module": "@jupyter-widgets/base",
            "_view_module_version": "1.2.0",
            "_view_name": "LayoutView",
            "align_content": null,
            "align_items": null,
            "align_self": null,
            "border": null,
            "bottom": null,
            "display": null,
            "flex": null,
            "flex_flow": null,
            "grid_area": null,
            "grid_auto_columns": null,
            "grid_auto_flow": null,
            "grid_auto_rows": null,
            "grid_column": null,
            "grid_gap": null,
            "grid_row": null,
            "grid_template_areas": null,
            "grid_template_columns": null,
            "grid_template_rows": null,
            "height": null,
            "justify_content": null,
            "justify_items": null,
            "left": null,
            "margin": null,
            "max_height": null,
            "max_width": null,
            "min_height": null,
            "min_width": null,
            "object_fit": null,
            "object_position": null,
            "order": null,
            "overflow": null,
            "overflow_x": null,
            "overflow_y": null,
            "padding": null,
            "right": null,
            "top": null,
            "visibility": null,
            "width": null
          }
        },
        "c113ac2838294f44b2d7823eba60f797": {
          "model_module": "@jupyter-widgets/controls",
          "model_name": "ButtonStyleModel",
          "model_module_version": "1.5.0",
          "state": {
            "_model_module": "@jupyter-widgets/controls",
            "_model_module_version": "1.5.0",
            "_model_name": "ButtonStyleModel",
            "_view_count": null,
            "_view_module": "@jupyter-widgets/base",
            "_view_module_version": "1.2.0",
            "_view_name": "StyleView",
            "button_color": null,
            "font_weight": ""
          }
        },
        "7ed44f0ebcb046189114c822e348fd45": {
          "model_module": "@jupyter-widgets/output",
          "model_name": "OutputModel",
          "model_module_version": "1.0.0",
          "state": {
            "_dom_classes": [],
            "_model_module": "@jupyter-widgets/output",
            "_model_module_version": "1.0.0",
            "_model_name": "OutputModel",
            "_view_count": null,
            "_view_module": "@jupyter-widgets/output",
            "_view_module_version": "1.0.0",
            "_view_name": "OutputView",
            "layout": "IPY_MODEL_8fa89040d70d419488fbbd613803de3d",
            "msg_id": "",
            "outputs": []
          }
        },
        "8fa89040d70d419488fbbd613803de3d": {
          "model_module": "@jupyter-widgets/base",
          "model_name": "LayoutModel",
          "model_module_version": "1.2.0",
          "state": {
            "_model_module": "@jupyter-widgets/base",
            "_model_module_version": "1.2.0",
            "_model_name": "LayoutModel",
            "_view_count": null,
            "_view_module": "@jupyter-widgets/base",
            "_view_module_version": "1.2.0",
            "_view_name": "LayoutView",
            "align_content": null,
            "align_items": null,
            "align_self": null,
            "border": null,
            "bottom": null,
            "display": null,
            "flex": null,
            "flex_flow": null,
            "grid_area": null,
            "grid_auto_columns": null,
            "grid_auto_flow": null,
            "grid_auto_rows": null,
            "grid_column": null,
            "grid_gap": null,
            "grid_row": null,
            "grid_template_areas": null,
            "grid_template_columns": null,
            "grid_template_rows": null,
            "height": null,
            "justify_content": null,
            "justify_items": null,
            "left": null,
            "margin": null,
            "max_height": null,
            "max_width": null,
            "min_height": null,
            "min_width": null,
            "object_fit": null,
            "object_position": null,
            "order": null,
            "overflow": null,
            "overflow_x": null,
            "overflow_y": null,
            "padding": null,
            "right": null,
            "top": null,
            "visibility": null,
            "width": null
          }
        },
        "6634d0b64ff34f258bff2736d6253561": {
          "model_module": "@jupyter-widgets/controls",
          "model_name": "DropdownModel",
          "model_module_version": "1.5.0",
          "state": {
            "_dom_classes": [],
            "_model_module": "@jupyter-widgets/controls",
            "_model_module_version": "1.5.0",
            "_model_name": "DropdownModel",
            "_options_labels": [
              "True",
              "False"
            ],
            "_view_count": null,
            "_view_module": "@jupyter-widgets/controls",
            "_view_module_version": "1.5.0",
            "_view_name": "DropdownView",
            "description": "A:",
            "description_tooltip": null,
            "disabled": false,
            "index": 0,
            "layout": "IPY_MODEL_63e66ef1c5da443c8cb51dfc1ee5b701",
            "style": "IPY_MODEL_596e3735f9e94d8cba68adf33f62fa1f"
          }
        },
        "63e66ef1c5da443c8cb51dfc1ee5b701": {
          "model_module": "@jupyter-widgets/base",
          "model_name": "LayoutModel",
          "model_module_version": "1.2.0",
          "state": {
            "_model_module": "@jupyter-widgets/base",
            "_model_module_version": "1.2.0",
            "_model_name": "LayoutModel",
            "_view_count": null,
            "_view_module": "@jupyter-widgets/base",
            "_view_module_version": "1.2.0",
            "_view_name": "LayoutView",
            "align_content": null,
            "align_items": null,
            "align_self": null,
            "border": null,
            "bottom": null,
            "display": null,
            "flex": null,
            "flex_flow": null,
            "grid_area": null,
            "grid_auto_columns": null,
            "grid_auto_flow": null,
            "grid_auto_rows": null,
            "grid_column": null,
            "grid_gap": null,
            "grid_row": null,
            "grid_template_areas": null,
            "grid_template_columns": null,
            "grid_template_rows": null,
            "height": null,
            "justify_content": null,
            "justify_items": null,
            "left": null,
            "margin": null,
            "max_height": null,
            "max_width": null,
            "min_height": null,
            "min_width": null,
            "object_fit": null,
            "object_position": null,
            "order": null,
            "overflow": null,
            "overflow_x": null,
            "overflow_y": null,
            "padding": null,
            "right": null,
            "top": null,
            "visibility": null,
            "width": null
          }
        },
        "596e3735f9e94d8cba68adf33f62fa1f": {
          "model_module": "@jupyter-widgets/controls",
          "model_name": "DescriptionStyleModel",
          "model_module_version": "1.5.0",
          "state": {
            "_model_module": "@jupyter-widgets/controls",
            "_model_module_version": "1.5.0",
            "_model_name": "DescriptionStyleModel",
            "_view_count": null,
            "_view_module": "@jupyter-widgets/base",
            "_view_module_version": "1.2.0",
            "_view_name": "StyleView",
            "description_width": ""
          }
        },
        "73db1e5b06284aec8e0161a62ac33cc9": {
          "model_module": "@jupyter-widgets/controls",
          "model_name": "DropdownModel",
          "model_module_version": "1.5.0",
          "state": {
            "_dom_classes": [],
            "_model_module": "@jupyter-widgets/controls",
            "_model_module_version": "1.5.0",
            "_model_name": "DropdownModel",
            "_options_labels": [
              "True",
              "False"
            ],
            "_view_count": null,
            "_view_module": "@jupyter-widgets/controls",
            "_view_module_version": "1.5.0",
            "_view_name": "DropdownView",
            "description": "B:",
            "description_tooltip": null,
            "disabled": false,
            "index": 1,
            "layout": "IPY_MODEL_2d484948a0be4819b57723d8bf077ef8",
            "style": "IPY_MODEL_2b36e3ab84af4f0cbbbd10c353923803"
          }
        },
        "2d484948a0be4819b57723d8bf077ef8": {
          "model_module": "@jupyter-widgets/base",
          "model_name": "LayoutModel",
          "model_module_version": "1.2.0",
          "state": {
            "_model_module": "@jupyter-widgets/base",
            "_model_module_version": "1.2.0",
            "_model_name": "LayoutModel",
            "_view_count": null,
            "_view_module": "@jupyter-widgets/base",
            "_view_module_version": "1.2.0",
            "_view_name": "LayoutView",
            "align_content": null,
            "align_items": null,
            "align_self": null,
            "border": null,
            "bottom": null,
            "display": null,
            "flex": null,
            "flex_flow": null,
            "grid_area": null,
            "grid_auto_columns": null,
            "grid_auto_flow": null,
            "grid_auto_rows": null,
            "grid_column": null,
            "grid_gap": null,
            "grid_row": null,
            "grid_template_areas": null,
            "grid_template_columns": null,
            "grid_template_rows": null,
            "height": null,
            "justify_content": null,
            "justify_items": null,
            "left": null,
            "margin": null,
            "max_height": null,
            "max_width": null,
            "min_height": null,
            "min_width": null,
            "object_fit": null,
            "object_position": null,
            "order": null,
            "overflow": null,
            "overflow_x": null,
            "overflow_y": null,
            "padding": null,
            "right": null,
            "top": null,
            "visibility": null,
            "width": null
          }
        },
        "2b36e3ab84af4f0cbbbd10c353923803": {
          "model_module": "@jupyter-widgets/controls",
          "model_name": "DescriptionStyleModel",
          "model_module_version": "1.5.0",
          "state": {
            "_model_module": "@jupyter-widgets/controls",
            "_model_module_version": "1.5.0",
            "_model_name": "DescriptionStyleModel",
            "_view_count": null,
            "_view_module": "@jupyter-widgets/base",
            "_view_module_version": "1.2.0",
            "_view_name": "StyleView",
            "description_width": ""
          }
        },
        "64a5f05dca2140669fadb682e311bffb": {
          "model_module": "@jupyter-widgets/controls",
          "model_name": "TextModel",
          "model_module_version": "1.5.0",
          "state": {
            "_dom_classes": [],
            "_model_module": "@jupyter-widgets/controls",
            "_model_module_version": "1.5.0",
            "_model_name": "TextModel",
            "_view_count": null,
            "_view_module": "@jupyter-widgets/controls",
            "_view_module_version": "1.5.0",
            "_view_name": "TextView",
            "continuous_update": true,
            "description": "Ausdruck:",
            "description_tooltip": null,
            "disabled": false,
            "layout": "IPY_MODEL_4895033bb7324dd5bf8e97581f0d4337",
            "placeholder": "Gib einen Ausdruck ein",
            "style": "IPY_MODEL_21ef2644e18f4c0485cb1540bc754f30",
            "value": "A and not B"
          }
        },
        "4895033bb7324dd5bf8e97581f0d4337": {
          "model_module": "@jupyter-widgets/base",
          "model_name": "LayoutModel",
          "model_module_version": "1.2.0",
          "state": {
            "_model_module": "@jupyter-widgets/base",
            "_model_module_version": "1.2.0",
            "_model_name": "LayoutModel",
            "_view_count": null,
            "_view_module": "@jupyter-widgets/base",
            "_view_module_version": "1.2.0",
            "_view_name": "LayoutView",
            "align_content": null,
            "align_items": null,
            "align_self": null,
            "border": null,
            "bottom": null,
            "display": null,
            "flex": null,
            "flex_flow": null,
            "grid_area": null,
            "grid_auto_columns": null,
            "grid_auto_flow": null,
            "grid_auto_rows": null,
            "grid_column": null,
            "grid_gap": null,
            "grid_row": null,
            "grid_template_areas": null,
            "grid_template_columns": null,
            "grid_template_rows": null,
            "height": null,
            "justify_content": null,
            "justify_items": null,
            "left": null,
            "margin": null,
            "max_height": null,
            "max_width": null,
            "min_height": null,
            "min_width": null,
            "object_fit": null,
            "object_position": null,
            "order": null,
            "overflow": null,
            "overflow_x": null,
            "overflow_y": null,
            "padding": null,
            "right": null,
            "top": null,
            "visibility": null,
            "width": "50%"
          }
        },
        "21ef2644e18f4c0485cb1540bc754f30": {
          "model_module": "@jupyter-widgets/controls",
          "model_name": "DescriptionStyleModel",
          "model_module_version": "1.5.0",
          "state": {
            "_model_module": "@jupyter-widgets/controls",
            "_model_module_version": "1.5.0",
            "_model_name": "DescriptionStyleModel",
            "_view_count": null,
            "_view_module": "@jupyter-widgets/base",
            "_view_module_version": "1.2.0",
            "_view_name": "StyleView",
            "description_width": ""
          }
        },
        "b3548da1259a4d319e9ed98ffdc49baa": {
          "model_module": "@jupyter-widgets/controls",
          "model_name": "ButtonModel",
          "model_module_version": "1.5.0",
          "state": {
            "_dom_classes": [],
            "_model_module": "@jupyter-widgets/controls",
            "_model_module_version": "1.5.0",
            "_model_name": "ButtonModel",
            "_view_count": null,
            "_view_module": "@jupyter-widgets/controls",
            "_view_module_version": "1.5.0",
            "_view_name": "ButtonView",
            "button_style": "",
            "description": "Auswerten",
            "disabled": false,
            "icon": "",
            "layout": "IPY_MODEL_1bbd2d5a54ff4b96b404c6e34d909992",
            "style": "IPY_MODEL_8514a4dba13242b9b8235140695beb54",
            "tooltip": ""
          }
        },
        "1bbd2d5a54ff4b96b404c6e34d909992": {
          "model_module": "@jupyter-widgets/base",
          "model_name": "LayoutModel",
          "model_module_version": "1.2.0",
          "state": {
            "_model_module": "@jupyter-widgets/base",
            "_model_module_version": "1.2.0",
            "_model_name": "LayoutModel",
            "_view_count": null,
            "_view_module": "@jupyter-widgets/base",
            "_view_module_version": "1.2.0",
            "_view_name": "LayoutView",
            "align_content": null,
            "align_items": null,
            "align_self": null,
            "border": null,
            "bottom": null,
            "display": null,
            "flex": null,
            "flex_flow": null,
            "grid_area": null,
            "grid_auto_columns": null,
            "grid_auto_flow": null,
            "grid_auto_rows": null,
            "grid_column": null,
            "grid_gap": null,
            "grid_row": null,
            "grid_template_areas": null,
            "grid_template_columns": null,
            "grid_template_rows": null,
            "height": null,
            "justify_content": null,
            "justify_items": null,
            "left": null,
            "margin": null,
            "max_height": null,
            "max_width": null,
            "min_height": null,
            "min_width": null,
            "object_fit": null,
            "object_position": null,
            "order": null,
            "overflow": null,
            "overflow_x": null,
            "overflow_y": null,
            "padding": null,
            "right": null,
            "top": null,
            "visibility": null,
            "width": null
          }
        },
        "8514a4dba13242b9b8235140695beb54": {
          "model_module": "@jupyter-widgets/controls",
          "model_name": "ButtonStyleModel",
          "model_module_version": "1.5.0",
          "state": {
            "_model_module": "@jupyter-widgets/controls",
            "_model_module_version": "1.5.0",
            "_model_name": "ButtonStyleModel",
            "_view_count": null,
            "_view_module": "@jupyter-widgets/base",
            "_view_module_version": "1.2.0",
            "_view_name": "StyleView",
            "button_color": null,
            "font_weight": ""
          }
        },
        "f819b7337e64409ab6371448631a6c20": {
          "model_module": "@jupyter-widgets/output",
          "model_name": "OutputModel",
          "model_module_version": "1.0.0",
          "state": {
            "_dom_classes": [],
            "_model_module": "@jupyter-widgets/output",
            "_model_module_version": "1.0.0",
            "_model_name": "OutputModel",
            "_view_count": null,
            "_view_module": "@jupyter-widgets/output",
            "_view_module_version": "1.0.0",
            "_view_name": "OutputView",
            "layout": "IPY_MODEL_a8bac6f6448a41dbbaa1a07c97bacff9",
            "msg_id": "",
            "outputs": []
          }
        },
        "a8bac6f6448a41dbbaa1a07c97bacff9": {
          "model_module": "@jupyter-widgets/base",
          "model_name": "LayoutModel",
          "model_module_version": "1.2.0",
          "state": {
            "_model_module": "@jupyter-widgets/base",
            "_model_module_version": "1.2.0",
            "_model_name": "LayoutModel",
            "_view_count": null,
            "_view_module": "@jupyter-widgets/base",
            "_view_module_version": "1.2.0",
            "_view_name": "LayoutView",
            "align_content": null,
            "align_items": null,
            "align_self": null,
            "border": null,
            "bottom": null,
            "display": null,
            "flex": null,
            "flex_flow": null,
            "grid_area": null,
            "grid_auto_columns": null,
            "grid_auto_flow": null,
            "grid_auto_rows": null,
            "grid_column": null,
            "grid_gap": null,
            "grid_row": null,
            "grid_template_areas": null,
            "grid_template_columns": null,
            "grid_template_rows": null,
            "height": null,
            "justify_content": null,
            "justify_items": null,
            "left": null,
            "margin": null,
            "max_height": null,
            "max_width": null,
            "min_height": null,
            "min_width": null,
            "object_fit": null,
            "object_position": null,
            "order": null,
            "overflow": null,
            "overflow_x": null,
            "overflow_y": null,
            "padding": null,
            "right": null,
            "top": null,
            "visibility": null,
            "width": null
          }
        },
        "e39425bc0bd940a7ba5a5989436b9625": {
          "model_module": "@jupyter-widgets/controls",
          "model_name": "VBoxModel",
          "model_module_version": "1.5.0",
          "state": {
            "_dom_classes": [
              "widget-interact"
            ],
            "_model_module": "@jupyter-widgets/controls",
            "_model_module_version": "1.5.0",
            "_model_name": "VBoxModel",
            "_view_count": null,
            "_view_module": "@jupyter-widgets/controls",
            "_view_module_version": "1.5.0",
            "_view_name": "VBoxView",
            "box_style": "",
            "children": [
              "IPY_MODEL_2347275d9e9441368915062e0d4e7f7f",
              "IPY_MODEL_aa24fac03cf84dae8e4205e57963ddff"
            ],
            "layout": "IPY_MODEL_b911ddd8707a494abe072163fb9d9e08"
          }
        },
        "2347275d9e9441368915062e0d4e7f7f": {
          "model_module": "@jupyter-widgets/controls",
          "model_name": "DropdownModel",
          "model_module_version": "1.5.0",
          "state": {
            "_dom_classes": [],
            "_model_module": "@jupyter-widgets/controls",
            "_model_module_version": "1.5.0",
            "_model_name": "DropdownModel",
            "_options_labels": [
              "AND (A ∩ B)",
              "OR (A ∪ B)",
              "A AND NOT B (A - B)",
              "B AND NOT A (B - A)"
            ],
            "_view_count": null,
            "_view_module": "@jupyter-widgets/controls",
            "_view_module_version": "1.5.0",
            "_view_name": "DropdownView",
            "description": "Operation:",
            "description_tooltip": null,
            "disabled": false,
            "index": 0,
            "layout": "IPY_MODEL_afacf92a677149b19fc08774c16252cb",
            "style": "IPY_MODEL_0a9b571aa815471a859c5b34f1229538"
          }
        },
        "aa24fac03cf84dae8e4205e57963ddff": {
          "model_module": "@jupyter-widgets/output",
          "model_name": "OutputModel",
          "model_module_version": "1.0.0",
          "state": {
            "_dom_classes": [],
            "_model_module": "@jupyter-widgets/output",
            "_model_module_version": "1.0.0",
            "_model_name": "OutputModel",
            "_view_count": null,
            "_view_module": "@jupyter-widgets/output",
            "_view_module_version": "1.0.0",
            "_view_name": "OutputView",
            "layout": "IPY_MODEL_1c343cb8bdde4597a1fd79136247cdc1",
            "msg_id": "",
            "outputs": []
          }
        },
        "b911ddd8707a494abe072163fb9d9e08": {
          "model_module": "@jupyter-widgets/base",
          "model_name": "LayoutModel",
          "model_module_version": "1.2.0",
          "state": {
            "_model_module": "@jupyter-widgets/base",
            "_model_module_version": "1.2.0",
            "_model_name": "LayoutModel",
            "_view_count": null,
            "_view_module": "@jupyter-widgets/base",
            "_view_module_version": "1.2.0",
            "_view_name": "LayoutView",
            "align_content": null,
            "align_items": null,
            "align_self": null,
            "border": null,
            "bottom": null,
            "display": null,
            "flex": null,
            "flex_flow": null,
            "grid_area": null,
            "grid_auto_columns": null,
            "grid_auto_flow": null,
            "grid_auto_rows": null,
            "grid_column": null,
            "grid_gap": null,
            "grid_row": null,
            "grid_template_areas": null,
            "grid_template_columns": null,
            "grid_template_rows": null,
            "height": null,
            "justify_content": null,
            "justify_items": null,
            "left": null,
            "margin": null,
            "max_height": null,
            "max_width": null,
            "min_height": null,
            "min_width": null,
            "object_fit": null,
            "object_position": null,
            "order": null,
            "overflow": null,
            "overflow_x": null,
            "overflow_y": null,
            "padding": null,
            "right": null,
            "top": null,
            "visibility": null,
            "width": null
          }
        },
        "afacf92a677149b19fc08774c16252cb": {
          "model_module": "@jupyter-widgets/base",
          "model_name": "LayoutModel",
          "model_module_version": "1.2.0",
          "state": {
            "_model_module": "@jupyter-widgets/base",
            "_model_module_version": "1.2.0",
            "_model_name": "LayoutModel",
            "_view_count": null,
            "_view_module": "@jupyter-widgets/base",
            "_view_module_version": "1.2.0",
            "_view_name": "LayoutView",
            "align_content": null,
            "align_items": null,
            "align_self": null,
            "border": null,
            "bottom": null,
            "display": null,
            "flex": null,
            "flex_flow": null,
            "grid_area": null,
            "grid_auto_columns": null,
            "grid_auto_flow": null,
            "grid_auto_rows": null,
            "grid_column": null,
            "grid_gap": null,
            "grid_row": null,
            "grid_template_areas": null,
            "grid_template_columns": null,
            "grid_template_rows": null,
            "height": null,
            "justify_content": null,
            "justify_items": null,
            "left": null,
            "margin": null,
            "max_height": null,
            "max_width": null,
            "min_height": null,
            "min_width": null,
            "object_fit": null,
            "object_position": null,
            "order": null,
            "overflow": null,
            "overflow_x": null,
            "overflow_y": null,
            "padding": null,
            "right": null,
            "top": null,
            "visibility": null,
            "width": "60%"
          }
        },
        "0a9b571aa815471a859c5b34f1229538": {
          "model_module": "@jupyter-widgets/controls",
          "model_name": "DescriptionStyleModel",
          "model_module_version": "1.5.0",
          "state": {
            "_model_module": "@jupyter-widgets/controls",
            "_model_module_version": "1.5.0",
            "_model_name": "DescriptionStyleModel",
            "_view_count": null,
            "_view_module": "@jupyter-widgets/base",
            "_view_module_version": "1.2.0",
            "_view_name": "StyleView",
            "description_width": "initial"
          }
        },
        "1c343cb8bdde4597a1fd79136247cdc1": {
          "model_module": "@jupyter-widgets/base",
          "model_name": "LayoutModel",
          "model_module_version": "1.2.0",
          "state": {
            "_model_module": "@jupyter-widgets/base",
            "_model_module_version": "1.2.0",
            "_model_name": "LayoutModel",
            "_view_count": null,
            "_view_module": "@jupyter-widgets/base",
            "_view_module_version": "1.2.0",
            "_view_name": "LayoutView",
            "align_content": null,
            "align_items": null,
            "align_self": null,
            "border": null,
            "bottom": null,
            "display": null,
            "flex": null,
            "flex_flow": null,
            "grid_area": null,
            "grid_auto_columns": null,
            "grid_auto_flow": null,
            "grid_auto_rows": null,
            "grid_column": null,
            "grid_gap": null,
            "grid_row": null,
            "grid_template_areas": null,
            "grid_template_columns": null,
            "grid_template_rows": null,
            "height": null,
            "justify_content": null,
            "justify_items": null,
            "left": null,
            "margin": null,
            "max_height": null,
            "max_width": null,
            "min_height": null,
            "min_width": null,
            "object_fit": null,
            "object_position": null,
            "order": null,
            "overflow": null,
            "overflow_x": null,
            "overflow_y": null,
            "padding": null,
            "right": null,
            "top": null,
            "visibility": null,
            "width": null
          }
        },
        "89cb0ae8773f4dd0842c127a5241cb06": {
          "model_module": "@jupyter-widgets/output",
          "model_name": "OutputModel",
          "model_module_version": "1.0.0",
          "state": {
            "_dom_classes": [],
            "_model_module": "@jupyter-widgets/output",
            "_model_module_version": "1.0.0",
            "_model_name": "OutputModel",
            "_view_count": null,
            "_view_module": "@jupyter-widgets/output",
            "_view_module_version": "1.0.0",
            "_view_name": "OutputView",
            "layout": "IPY_MODEL_76c826fb6bef4182a529498a31449ccb",
            "msg_id": "",
            "outputs": [
              {
                "output_type": "display_data",
                "data": {
                  "text/plain": "<Figure size 600x600 with 1 Axes>",
                  "image/png": "iVBORw0KGgoAAAANSUhEUgAAAeQAAAGjCAYAAAD982YtAAAAOnRFWHRTb2Z0d2FyZQBNYXRwbG90bGliIHZlcnNpb24zLjEwLjAsIGh0dHBzOi8vbWF0cGxvdGxpYi5vcmcvlHJYcgAAAAlwSFlzAAAPYQAAD2EBqD+naQAAR2hJREFUeJzt3Xl4VPW9P/D3ObNPJvu+kIXITllkE3dQQKr1p8gFtValWr310dqqbbWrUPXetnrVq2DtcsVqlNpe8NYqCiquKCCKghQIS8Kefc/s5/z+mBIYEiSTTPI93zPv1/PMEzKZTD6Ew7znuyu6rusgIiIioVTRBRAREREDmYiIyBAYyERERAbAQCYiIjIABjIREZEBMJCJiIgMgIFMRERkAAxkIiIiA2AgExERGQADmaRXWlqKyy67LK7PeeGFF+LCCy+M63MSEX0VBjIJsXXrVsyfPx8lJSVwOp0oLCzErFmz8MQTT4gurUeHDx/G/fffjy1btnT72gsvvIDHHnts0GuS3bJly6AoCqZNmzboP3v58uVQFCXqlpOTgxkzZmD16tWDXg8RAFhFF0CJZ/369ZgxYwaKi4vxne98B3l5eThw4AA+/vhjPP7447jjjjtEl4g1a9ZEfX748GEsXrwYpaWlmDBhQtTXXnjhBWzbtg3f//73B69AE6ioqEBpaSk2btyI3bt344wzzhj0GpYsWYKysjLouo6amhosX74cX//61/HKK6/EvdeF6HQYyDToHnzwQaSmpmLTpk1IS0uL+lptba2Yok5it9tFl2Bq+/btw/r167Fy5UrceuutqKiowC9/+ctBr2Pu3LmYPHly1+c33XQTcnNz8eKLLzKQadCxy5oG3Z49ezBmzJhuYQwAOTk53e57/vnnMXXqVLjdbqSnp+P888/v1oIFgA8++ABTp06F0+nE0KFD8ec//znq68e6KT/88EPcddddyM7ORlJSEq688krU1dVFPfbEMeR33nkHU6ZMAQAsWrSoq4tz+fLluPDCC/Hqq6+iurq66/7S0tKu71MUBS+99BIWL16MwsJCJCcnY/78+WhpaYHf78f3v/995OTkwOPxYNGiRfD7/T3+/SdNmgSXy4WMjAxcffXVOHDgQLd6x44di+3bt2PGjBlwu90oLCzEb37zm27PV11djcsvvxxJSUnIycnBD37wA7zxxhtQFAXvvPNO1GM3bNiASy65BKmpqXC73bjgggvw4YcfdnvOHTt2YP/+/d3uP5WKigqkp6fj0ksvxfz581FRUdHr7z3m6aefxpgxY+BwOJCTk4ObbroJDQ0NMT/PidLS0uByuWC1sq1CAuhEg2z27Nl6cnKyvnXr1tM+9v7779cB6Geffbb+29/+Vn/88cf1a6+9Vv/xj3/c9ZiSkhJ9xIgRem5urv6Tn/xEf/LJJ/UzzzxTVxRF37ZtW9fjnnnmGR2APnHiRH3mzJn6E088od999926xWLRFyxYEPVzL7jgAv2CCy7QdV3Xjx49qi9ZskQHoN9yyy36c889pz/33HP6nj179DVr1ugTJkzQs7Kyuu5ftWqVruu6vm7dOh2APmHCBH369On6f//3f+vf+973dEVR9Kuvvlq/9tpr9blz5+pLly7Vv/Wtb+kA9MWLF0fV8cADD+iKougLFy7Uly1bpi9evFjPysrSS0tL9aampqh6CwoK9CFDhuh33nmnvmzZMn3mzJk6AP21117relx7e7s+dOhQ3eVy6ffee6/+2GOP6VOnTtXHjx+vA9DXrVvX9di33npLt9vt+vTp0/VHHnlEf/TRR/Vx48bpdrtd37BhQ1SdALp+X70xcuRI/aabbtJ1Xdffe+89HYC+cePGXn//k08+qQPQr7rqKn3p0qX6T37yE93j8ejTpk3Tw+Hwab//2LXw5ptv6nV1dXptba2+bds2/dZbb9VVVdXXrFnT61qI4oWBTINuzZo1usVi0S0Wiz59+nT9Rz/6kf7GG2/ogUAg6nGVlZW6qqr6lVde2e1FVtO0rj+XlJToAPT33nuv677a2lrd4XDod999d9d9x16EL7744qjv/8EPfqBbLBa9ubm5674TA1nXdX3Tpk06AP2ZZ57p9ve59NJL9ZKSkm73HwvksWPHRv3drrnmGl1RFH3u3LlRj58+fXrU81RVVekWi0V/8MEHox63detW3Wq1Rt1/wQUX6AD0P//5z133+f1+PS8vT7/qqqu67nvkkUd0APrLL7/cdZ/X69VHjhwZFciapunDhg3T58yZE/W76uzs1MvKyvRZs2ZF1RRLIH/yySc6AH3t2rVdP6uoqEi/8847e/X9mqbpBQUF+o033hh1/5tvvqkD0FevXn3a5zh2LZx8czgc+vLly3tVB1G8scuaBt2sWbPw0Ucf4fLLL8fnn3+O3/zmN5gzZw4KCwvx97//vetxL7/8MjRNwy9+8QuoavSlqihK1OejR4/Geeed1/V5dnY2RowYgb1793b7+bfcckvU95933nkIh8Oorq6O118xyvXXXw+bzdb1+bRp06DrOr797W9HPW7atGk4cOAAQqEQAGDlypXQNA0LFixAfX191y0vLw/Dhg3DunXror7f4/Hguuuu6/rcbrdj6tSpUb+D119/HYWFhbj88su77nM6nfjOd74T9VxbtmxBZWUlrr32WjQ0NHT97I6ODlx00UV47733oGla1+N1Xe/W3X0qFRUVyM3NxYwZMwBE/i0XLlyIFStWIBwOn/b79+7di8OHD2PhwoVR91900UXIzs7G+++/36s6AGDp0qVYu3Yt1q5di+effx4zZszAzTffjJUrV/b6OYjihQMlJMSUKVOwcuVKBAIBfP7551i1ahUeffRRzJ8/H1u2bMHo0aOxZ88eqKqK0aNHn/b5iouLu92Xnp6Opqam0z42PT0dAHp8bDyc/PNSU1MBAEOGDOl2v6ZpaGlpQWZmJiorK6HrOoYNG9bj854Y8gBQVFTU7Y1Keno6vvjii67Pq6urUV5e3u1xJ89wrqysBADccMMNp/x7tbS0dP3ueiscDmPFihWYMWMG9u3b13X/tGnT8Mgjj+Ctt97C7Nmzv/I5ampqAPT8b15SUoIjR470up6pU6dGTeq65pprMHHiRNx+++247LLLOLmPBhUDmYSy2+2YMmUKpkyZguHDh2PRokX461//GvOMW4vF0uP9uq7367HxcKqfd7o6NE2DoihYvXp1j4/1eDwxPV8sjrV+f/vb33Zb5nWqn98bb7/9No4cOYIVK1ZgxYoV3b5eUVFx2kAOBAIAep4J73A4ur7eF6qqYsaMGXj88cdRWVmJMWPG9Pm5iGLFQCbDONZSOdbCKS8vh6Zp2L59+ylDYbCc3KLs7df6o7y8HLquo6ysDMOHD4/Lc5aUlGD79u3QdT2q7t27d3f72QCQkpKCiy++OC4/G4gEbk5ODpYuXdrtaytXrsSqVavwu9/9Di6XK24/M1bHhgza29uF1UCJiWPINOjWrVvXY6vttddeAwCMGDECAHDFFVdAVVUsWbIkarwSGLjW7KkkJSUBAJqbm3v8WktLS9x/5rx582CxWLB48eJuf19d1/u0xGfOnDk4dOhQ1Fi9z+fDH/7wh6jHTZo0CeXl5Xj44Yd7DKaTl4n1ZtmT1+vFypUrcdlll2H+/Pndbrfffjva2tqiahtswWAQa9asgd1ux6hRo4TVQYmJLWQadHfccQc6Oztx5ZVXYuTIkQgEAli/fj3+8pe/oLS0FIsWLQIQGdf86U9/il/96lc477zzMG/ePDgcDmzatAkFBQX4j//4j0Gruby8HGlpafjd736H5ORkJCUlYdq0aSgrK8OkSZPwl7/8BXfddRemTJkCj8eDb3zjG3H5mQ888ADuu+8+VFVV4YorrkBycjL27duHVatW4ZZbbsE999wT03PeeuutePLJJ3HNNdfgzjvvRH5+PioqKuB0OgEcb+2rqoo//vGPmDt3LsaMGYNFixahsLAQhw4dwrp165CSkoJXXnml63lHjRqFCy644Csndv39739HW1tb1ISyE5111lnIzs5GRUVFtwlbA2X16tXYsWMHgMimNC+88AIqKytx7733IiUlZVBqIDqGgUyD7uGHH8Zf//pXvPbaa/j973+PQCCA4uJi3HbbbfjZz34WtWHIsa0Nn3jiCfz0pz+F2+3GuHHj8K1vfWtQa7bZbHj22Wdx33334d///d8RCoXwzDPPoKysDLfddhu2bNmCZ555Bo8++ihKSkriEsgAcO+992L48OF49NFHsXjxYgCRyWCzZ88+ZbB9FY/Hg7fffht33HEHHn/8cXg8Hlx//fU4++yzcdVVV3UFMxDZbOSjjz7Cr371Kzz55JNob29HXl4epk2bhltvvTXmn30s+GfNmtXj11VVxaWXXoqKigo0NDQgMzOzx8e53W6MGDGixzHkkpISFBQU9LqmX/ziF11/djqdGDlyJJ566qk+/f2I+kvRB7vvj4gM57HHHsMPfvADHDx4EIWFhaLLIUpIDGSiBOP1eqMmTfl8PkycOBHhcBi7du0SWBlRYmOXNVGCmTdvHoqLizFhwgS0tLTg+eefx44dO/q0nzQRxQ8DmSjBzJkzB3/84x9RUVGBcDiM0aNHY8WKFYM2kYqIesYuayIiIgPgOmQiIiIDYCATEREZAAOZaBBceOGFGDt2bFyf88Ybb0RpaWlcn/NE999/PxRFgaIofdq3eqBs2bKlqy5FUfC3v/1NdElEccFAJlNZvnx51Iv1ybePP/5YdInSee655/CnP/3plF8PBoMYPXo0FEXBww8/3Oefc+IbgBNvJ25WAkQ2/3juuefwk5/8pM8/i8iIOMuaTOnYDl8nO/mYQZn94Q9/6LbH90A48YzlnjzxxBOn3cc6Fk899VRUi/zkU6zS09Nx3XXX4Z133sFDDz0Ut59LJBoDmUxp7ty5Uefc9kYoFIKmadKcgXvyecgi1NbWYsmSJfjxj38ctQ1lf8yfPx9ZWVlxeS4imbDLmhJSVVVVVxfrY489hvLycjgcDmzfvh0A8M4772Dy5MlwOp0oLy/H008/3dWlerLnn38ekyZNgsvlQkZGBq6++mocOHCgx5+7efNmnH322XC5XCgrK8Pvfve7qK+/8847UBQFL730Eh588EEUFRXB6XTioosu6nZEYk9jyCtWrMCkSZOQnJyMlJQUfO1rX8Pjjz8e9Zg9e/Zgz549sf7KenTvvfdixIgRp21Fx0LXdbS2tg76iV5EorGFTKbU0tKC+vr6qPsURel2YMEzzzwDn8+HW265BQ6HAxkZGfjss89wySWXID8/H4sXL0Y4HMaSJUuQnZ3d7ec8+OCD+PnPf44FCxbg5ptvRl1dHZ544gmcf/75+Oyzz6IOymhqasLXv/51LFiwANdccw1eeuklfPe734Xdbse3v/3tqOf9z//8T6iqinvuuQctLS34zW9+g29+85vYsGHDKf/Oa9euxTXXXIOLLroIv/71rwEA//znP/Hhhx/izjvv7HrcRRddBCDypqQ/Nm7ciGeffRYffPBBXM+EHjp0KNrb25GUlIQrrrgCjzzyCHJzc+P2/ERGxUAmU7r44ou73edwOODz+aLuO3jwIHbv3h0VtrfffjssFgs+/PDDrpODFixY0O183Orqavzyl7/EAw88EDXBaN68eZg4cSKWLVsWdf/hw4fxyCOP4K677gIQOQpx2rRpuO+++/Ctb30rqgva5/Nhy5YtXd3n6enpuPPOO7Ft27ZTztZ+9dVXkZKSgjfeeKPbuGu86bqOO+64AwsXLsT06dP7He5A5O94++23Y/r06XA4HHj//fexdOlSbNy4EZ988gmPQyTTYyCTKS1duhTDhw+Puq+nkLrqqquiwjgcDuPNN9/ElVdeGXWM3xlnnIG5c+dGnQG8cuVKaJqGBQsWRLXG8/LyMGzYMKxbty4qkK1Wa9Sxfna7Hbfeeiu++93vYvPmzTjrrLO6vrZo0aKosezzzjsPALB3795TBnJaWho6Ojqwdu1aXHLJJaf83cQjPJcvX46tW7fGdcnRia14IPJvM3XqVHzzm9/EsmXLcO+998btZxEZEQOZTGnq1Km9mtR18kzs2tpaeL3eHmdjn3xfZWUldF3HsGHDenzukyddFRQUICkpKeq+Y28aqqqqogK5uLg46nHp6ekAIt3ep3LbbbfhpZdewty5c1FYWIjZs2djwYIFXxnOfdHa2or77rsPP/zhDzFkyJC4PvfJrr32Wtx999148803GchkegxkSmgnHkMYK03ToCgKVq9e3WPruz+baZyqy/mrJjrl5ORgy5YteOONN7B69WqsXr0azzzzDK6//no8++yzfa7lZA8//DACgQAWLlzY1do+ePAggMgbhqqqKhQUFMRttvqQIUPQ2NgYl+ciMjIGMtEJcnJy4HQ6u81oBtDtvvLycui6jrKysm7d4z05fPgwOjo6olrJx84fjteOW3a7Hd/4xjfwjW98A5qm4bbbbsPTTz+Nn//853Fbg71//340NTVhzJgx3b720EMP4aGHHsJnn32GCRMm9Ptn6bqOqqoqTJw4sd/PRWR0XPZEdAKLxYKLL74YL7/8Mg4fPtx1/+7du7F69eqox86bNw8WiwWLFy/u1nLVdR0NDQ1R94VCITz99NNdnwcCATz99NPIzs7GpEmT+l37yT9PVVWMGzcOAOD3+7vu7++yp+9973tYtWpV1O3Y3+vGG2/EqlWretyU5XTq6uq63ffUU0+hrq4u7t3uREbEFjKZ0urVq7Fjx45u95999tkYOnToV37v/fffjzVr1uCcc87Bd7/7XYTDYTz55JMYO3YstmzZ0vW48vJyPPDAA7jvvvtQVVWFK664AsnJydi3bx9WrVqFW265Bffcc0/X4wsKCvDrX/8aVVVVGD58OP7yl79gy5Yt+P3vfx+XTT5uvvlmNDY2YubMmSgqKkJ1dTWeeOIJTJgwIWqGeH+XPZ155pk488wzo+479lxjxozBFVdcEfW1Y63/0/28kpISLFy4EF/72tfgdDrxwQcfYMWKFZgwYULUZDgis2IgkymdateoZ5555rSBPGnSJKxevRr33HMPfv7zn2PIkCFYsmQJ/vnPf3YL+XvvvRfDhw/Ho48+isWLFwOIjHnOnj0bl19+edRj09PT8eyzz+KOO+7AH/7wB+Tm5uLJJ5/Ed77znX78TY+77rrr8Pvf/x7Lli1Dc3Mz8vLysHDhQtx///1QVXGdYR0dHb3qLv/mN7+J9evX43//93/h8/lQUlKCH/3oR/jpT38Kt9s9CJUSiaXo3A6HqFeuuOIKfPnll6isrBRdyqC4//77sXjxYtTV1fW4qUpvbN++HWPGjME//vEPXHrppXGpKxwOo6mpCR9++CGuuOIK/PWvf8X8+fPj8txEIrGFTNQDr9cbNQO7srISr732Gm644QaBVYmRnZ2NpKQktLe3x/y969atw/Tp0+MWxgCwdetWTvIiU2ILmagH+fn5uPHGGzF06FBUV1fjqaeegt/vx2effXbKdcdms3fvXuzduxdAZFOTCy+8UGxB/9Le3h51jOa4ceOQk5MjsCKi+GAgE/Vg0aJFWLduHY4ePQqHw4Hp06fjoYce6jaZiYgoXhjIREREBsB1yERERAbAQCYiIjIABjIREZEBMJCJiIgMgIFMRERkAAxkIiIiA2AgExERGQADmYiIyAAYyERERAbAQCYiIjIABjIREZEBMJCJiIgMgIFMRERkAAxkIiIiA2AgExERGQADmYiIyAAYyERERAbAQCYiIjIABjIREZEBMJCJiIgMgIFMRERkAAxkIiIiA2AgExERGQADmYiIyAAYyERERAbAQCYiIjIABjIREZEBMJCJiIgMgIFMRERkAAxkIiIiA2AgExERGQADmYiIyAAYyERERAZgFV0AUZ/4/UBnJ+D1Hv8YCgHh8FffNA2wWABVjXw8drPZom8OB+B2A0lJkZvK965ENLAYyGQ8ug60tgJNTUBzM9DeHgndEwM4HB7cmpzO4+F87OZ2A6mpQHp65OtERP2g6Lquiy6CEpSmHQ/eE28tLYMfuP3ldgMZGZFwzsg4/mcr3/MSUe8wkGnweL3A0aPHbw0NkVA2K0UBkpMj4ZybC+TnA1lZ7P4moh4xkGngNDdHB3Brq+iKxLPZjodzfj6Qk8OAJiIADGSKJ68XqK4GDhwAjhwBfD7RFRmfxRIJ6Lw8oKgo8mdFEV0VEQnAQKb+aW4GqqoiQVxbG5mQRX3ndAKlpZFbYWEksIkoITCQKTa6Hul+rq6O3FpaRFdkXjYbMGQIUFYW+Wi3i66IiAYQA5l6p7YW2LUL2LuXXdEiqGqkxVxWBgwdynAmMiEGMp2a1wtUVgI7d0aWI5ExWK2RUB45MjL2TESmwECmaJoWmZS1cyewf7+5lyWZQVpaJJiHD+fmJESSYyBTRGsrsH17pEXs9YquhmKlqpGJYCNHRrq2OVObSDoM5ERXWwt8/nlkpjQvBXPweICvfQ0YNYo7hRFJhIGcqPbvjwTxkSOiK6GB4nQCY8YAY8dGDssgIkNjICcSTQN2744EMSdpJQ6rNdJaHjcucigGERkSAzkRBIOR8eFt24CODtHVkCiqCgwbBowfH5kMZiKariEYDiKoBREIB6DpGhQoUBSlx49W1QqH1QFV4balZBwMZDMLhyNB/NlnXDtMxylKZD3z5MmGDuZgOIiOYAfaA+1oD7SjI9DR9bkv5EMgHEAwHAngsN6308Fsqg0OqwMOi6Pro9PqhNvmRrIjGR67p+vG8KaBxkA2I12PbOKxeXPkLGGinqhqZFb25MlCl0z5Qj40ehujbs2+ZgTCAWE1nUxVVHjsHqQ4UpDqSEWGKwNZ7ixkuDJgUbm9KcUHA9ls9u8HNmzgGDH1nt0OTJgQmZk9wHtndwY7cbT9KGraa9DgbUCjtxG+kLy9N6qiIs2ZhkxXJrLcWch0Rz7aLdxJjWLHQDaLhgbg44+BQ4dEV0Ky8niAKVMi48xx0uxrxtH2o123Vr/5j+BUoCDTnYmC5AIUJBcg35MPm8UmuiySAANZdj5fpEW8axfXEVN8ZGUB06dHzmuOkT/kx/6W/djfsh+H2g5J3fqNF1VRkeXOigpodnNTTxjIMtu1K9Iq5oQtGghlZcA55wBu91c+rNnXjOrmalS3VKOmvQY6+JLyVWyqDUNSh6AsrQzFqcVsPVMXBrKMWluB999n9zQNPLs90o09enTUdpy1HbXY07gH1S3VCdENPVAsigWFKYUoTStFaVopnFbuR57IGMgy0TTgiy+ATz8FQiHR1VAiyclB+zmTsSN4FLsbdzOEB4ACBfnJ+RiROQJl6WWwqtz2NNEwkGVRWwu89x7Q2Ci6EkogmkVBZ5YT7Ulh+NUADnvc+NLSCZ4BNrDsFjvOyDgDI7NGIsudJbocGiQMZKMLhYCNG4Evv+SkLRo0/hQ72tIt6LT6uo0J++12bHUBDYpx1gmbWaYrEyOyRmBYxjA4rNyT3MwYyEZWXw+89RbQ0iK6EkoQnZlOtKbq8Cv+r36gAhz2uLFN7YTOkx4HhUWxYFjmMIzLHYc0Z5rocmgAMJCNatu2yHKmcN+2BCTqLV1V0JHtRKsnhCCCMX1vp9OBzc4QOsHrdDCVppViXO445HnyRJdCccRANhqfD3j3XaC6WnQlZHJhm4r2HCfanH6E+xGoYYsF//TYcEjh8rvBlpuUi/F541GSWgJFYVeF7BjIRnL0aKSLmicy0QAKOa1ozbGjw+aDFsfpWUc9Lmy1ejnhS4BURyom5k/EsIxhDGaJMZCNQNcjS5k+/ZQTt2jAaFYVLflOtNm9A7Z5h9fhwKeuMNrBZXkiZLgyMKVgCkrSSkSXQn3AQBatsxN4+23g8GHRlZBJ6QrQludGq7t/XdO9pakqdiXbUc0ubGFyk3IxrWgax5glw0AWqaEBeOMNHpFIA6Yjy4Xm1CBCAlqsR5Ld+MLSOeg/l44bkjIEUwunItOdKboU6gUGsihVVZGWMXfcogHgT3WgKROnX740wJrdLnxi8yGs8GVGpJFZIzGtcBrXMRscA1mEzz+PbPbBXz3FWchpRVOeFZ0W43QX+xx2bHSG4VW4NEokp9WJaYXTMCJrhOhS6BQYyINJ0yKHQuzcKboSMqG2PBeak/xxnTkdLyGrFZ95FDTGuM6Z4i/Pk4dzi89FhitDdCl0EgbyYPH5gLVrgSNHRFdCJhN0WdGYb4FPcPf06eiqih3JduznZC/hVEXF2JyxmFwwmYdYGAgDeTA0NwOvvx45NpEoTnQAbQVuNLsGbhnTQDiQ4sZ2lZO9jMBj9+D8kvNRlFIkuhQCA3ng1dcDr74K+I3deiG5BN02NOQp8Et6wMNRjwufW72iy6B/GZ09GmcVncXWsmAM5IFUUwOsXg0E5HzRJOPRFaC1wI0Wp1yt4p7Uedz41MqWslGkOFIws2wmcpJyRJeSsBjIA+Xw4Ug3NZc1UZyEnFbUF6jStop70pjkwidWL0+MMghVUXFm/pmYmDeRW3AKwEAeCAcORCZwMYwpTrzpTjRkBAdlp63B1uJ2YaOde2AbSZ4nDzPLZsJj94guJaEwkOOtqgp4883IEieiftIBtBS50eIwd9dum8uJDXY/NxAxEKfViYvKLkJhSqHoUhIGAzme9uwB1q1jGFNchG0q6ovs8KmJsUyow+nEx04/QpKPjZuJAgVTC6difN540aUkBAZyvOzaFTnHmL9OigN/ih312ZqQPahF6nA6sd7pY/e1wQxNH4oLSy/kLOwBxkCOh337It3U/FVSHLTludCU5E3YdmKry4mP7T5O9DKYdGc65pwxBymOFNGlmBYDub+OHAFeew0Im2+yDQ0uXQEai11o5/pcNCa5sMnG34PR2C12zCybieLUYtGlmBIDuT8aGoBXXuE6Y+o3TVVQX+KAN0HGi3ujxuPGFq5TNhwFCs4rOQ8js0aKLsV0GMh91dYG/N//AZ18waD+CdtU1A2xmmp9cbwcTHbjS56pbEiTCybjzPwzRZdhKgzkvvB6I2HMvampn0IuK2oLFAR5CtIp7U1xoVJl97URjcoahXOLz+UmInHCQI5VMBjppq6vF10JSS7gsaM2N2zKzT7ibWeqC1UKQ9mISlJLcNHQizgDOw5U0QVIRdOANWsYxtRvvjQHanJDDONeGt7mQxbsosugHlS3VOPVXa/CF+L8h/5iIMfi/feBQ4dEV0GS68hyoTbTD42rbXtN0XSMb9Pg0i2iS6Ee1HTUMJTjgIHcW9u3Azt3iq6CJNeR5UJ9auKuMe4PaziEKT4rX7QMqsHbgFd3vQp/iEfN9hWv7d6oqQHWrxddBUmuM9OJhlSOg/aHy+/HpIBLdBl0Cg3eBrxayVDuKwby6XR2Rk5u4v7U1A/edAfq0/xsGcdBRqcXIzW36DLoFOo76/Fq5asIhLmML1YM5K+iaZEtMbnWmPrBl+pAXUYAOuM4bkraOlGgO0SXQadQ31mPV3cxlGPFQP4q69cDR4+KroIkFki2oy4ryDCONx0Y0xZECrjUxqjqOuvwWuVrCIa5xr63GMinsnNnZCIXUR8FPDbU5oQ5m3qAqJqGiZ0qX8QMrLajFm/ufROazv8DvcFruSf19cAHH4iugiQWdNtQm6txnfEAcwYCGBfieLKRHWg9gA/28/W0NxjIJwuFgLfe4ulN1Gdhm4rafJ1hPEhy2zmebHQ76nfg0yOfii7D8BjIJ/v4Y6ClRXQVJCldAeqH2BBCSHQpCWVUexhOvpwZ2ieHP8Guhl2iyzA0XsEnOniQ48bUL43FLvgUrsEcbNZwCBP93FrT6N6rfg+HWrnb4akwkI/x+4F33xVdBUmsLc+Fdis3/hAlxevDcI2bhhiZpmtYu3ctmn3NoksxJAbyMR9+CHR0iK6CJOVLc6ApiWEsWmm7D2mwiS6DvkIgHMCaPWu4HKoHDGQA2LMH2L1bdBUkqZDLivrMEFcaG4Ci6ZjQqUDhP4ahNfua8W41eyRPxkDu7OQSJ+ozzaKgtkDljGoDcQQC3FpTAnub9uKLmi9El2EoDOR3342MHxP1QUOxA0Fwe0CjGdLhhYe7eBnexkMbcbSduyEek9iBXFkJHDggugqSVGu+G50qz381IkXTMd7PQDY6Tdfw5t430RnkeQFAIgdyIBBZc0zUBwGPHc1uvogYmcfrQ6nuFF0GnUZnsBNv7n0Tus6B/8QN5E2bAC9nxVLsNFVBfS6Pi5DBGe1B2BP4ZU4WR9uPYsvRLaLLEC4xr9T6em4AQn3WXOREEFyyIQNLOIxxQW6rKYPNRzajobNBdBlCJWYgf/ABwO4R6gNvhhNtNvasyCSzw4sccBcvo9N0Deuq1iGsJe6KhcQL5F27gNpa0VWQhMI2FQ3pbBnLaDSH+6XQ6G3EJ4c/EV2GMIkVyMEgsHGj6CpIUk0Fdq43lpQjEEA5t9WUwhc1XyTsUqjECuTPPotsBEIUo44sFzqsXOIks9LOICy6IroMOg0dOt6peicht9ZMnEBubwe2bhVdBUlIs6poSuXmH7KzhkIYyVayFFr9rdh0eJPoMgZd4gTyp58CYXY3UuyaC5zsqjaJgg4fz02WxJe1X6LR2yi6jEGVGFdmW1tkMhdRjAIeG9ptHOYwC1XTMCrEzUJkoEPHB/sT65yBxAjkTz8FNE10FSShphyVG4CYTHaHF0m6RXQZ1AtH249iV0PiNKbMH8itrZE9q4li1JHlgk/hwSNmo+g6Roe4LlkWGw5uQCCcGHM4zB/IbB1TH2iqgubUxJvlmSgyOrxI1nn4hAy8IW/CrE02dyC3tLB1TH3SWuBCCCHRZdAAGh6yiS6BeunL2i8TYltNcwfy5s3cIpNiFnRZ0erg9phml+nljGtZ6NDx8UHzn85n3quxuRnYs0d0FSShpjwreJaT+SmajuFhzriWxaG2QzjUekh0GQPKvIG8ZQtbxxQzf4odXpU7ciWK3A4frODuXbLYeMjcWx+bM5C9XmD3btFVkIRaMs35X4J6pmoahoW5e5cs6jrrsLdpr+gyBow5X33++U/OrKaYBZLZOk5EBd6ASV8IzWnz4c3QTdr7ab7rUNMigUwUo+ZMdl0mImsohKE6W8myaPI1YU+TOecHmS+Qq6qAjg7RVZBkAh47vBZuApKoirzcq1wmZm0lmy+Qt20TXQFJqCXLfP8VqPccgQBywN27ZNHibzHlWLK5XoUaGoCjiXmwNfVdIMmGTgvHjhNdSZD7W8tka635jtM1VyB/+aXoCkhCrdncQpGAdK8fNp3zCGRR21GLo+3maoCZJ5D9fi51opgF3TZ0WLgrFwGKpqFU50YhMvmi5gvRJcSVeQJ51y4gxL2HKTZtWdzPmI4r8HNyl0yqm6vR6m8VXUbcmCeQ2TqmGGmqgg4bx47pOKc/gAzwTZosdOjYWmOesWRzBHJrK1BXJ7oKkkxnlhMauIEMRSvlKVBS2dmw0zTnJZsjkNk6pj5o97B7krrL7PTBwsld0ghpIeys3ym6jLgwRyDzVCeKUSDJBr9ijnfVFF+qpqFQ55pkmexsYCAbQ2Mj0NQkugqSTHsmuyXp1PLC8r80JpJGbyPqO+tFl9Fv8l917K6mGHEyF51OqtdvghfHxGKGbmv5rzl2V1OMOJmLTkfVNORzTbJUdjfuhqbL/f9a7kCuqQHa2kRXQZLhZC7qjfwQJ3bJxB/2o6q5SnQZ/SJ3ILN1TDEKuayczEW9kuYLQDHfgUKmtqthl+gS+kXuQD5wQHQFJJnONE7mot6xhMPIVRyiy6AYHGg5AG9Q3q1w5Q3ktjagpUV0FSSZTpfcY0w0uApCPAFKJjp0VLdUiy6jz+QN5IMHRVdAkgnbVPgVv+gySCLpPg5vyEbmcWQGMiUMbwa7Hyk21lAIKeDxnDI51HoIwXBQdBl9Imcg6zpw6JDoKkgynW7O0KHY5WqcdyCTsB7GwVY5G2xyBnJtLRBgVxL1nmZR4FPZXU2xy+CprtKRtdtazkBmdzXFyJvuhA62kCl2yX6++ZfN/pb9Um4SImcgc7kTxcjrEV0BycoSDiONZyRLxR/242j7UdFlxEy+QA4EePYxxUQH4LWwu5r6LlfjxC7ZHGiRr+EmXyAfPRqZ1EXUS8FkO/eupn5J5ziydI60HxFdQszkC2S2jilGPg9bN9Q/Ho4jS6e+s1665U8MZDI9v4M9KtQ/lnAY6TrHkWWi6RpqOmpElxET+QK5Xv5DqGlw+S1yvUsmY0rXuY2mbI60ydVtLVcgd3QAnZ2iqyCJhFxWhMEBQOq/VE2ul0uSbxxZriuM3dUUI18yuxkpPpJCnBgom9qOWoQ0ed6QM5DJ1PxO0RWQWTiDHPqQjaZrqO2oFV1GrzGQydT8trDoEsgkLOEwkjiOLJ36TnnmHckVyJzQRTHQrCqC4HIVip9M7tglnYbOBtEl9Jo8gdzeDvh8oqsgifiT7aJLIJPhxC75NHgZyPHX3Cy6ApJM0CnP5U1y8HBil3Safc3SHDQhzytWa6voCkgyIRs3BKH4coXkmbFLEZquodnXLLqMXmEgk2kFrQxkii9bKASFl5V0ZBlHZiCTaQUVtmYoznTADc60lo0s48jyBHJbm+gKSCKaReEOXTQgkhUeViKbJm+T6BJ6RZ5AZguZYhByc3kKDYwkzrSWTltAjgadHFeWzwdwlxyKQdDJbkUaGG5dEV0Cxag90C66hF6RI5DZOqYYBR180aSB4QxzVpdsQloI3qBXdBmnxUAmUwpa5Vh3SPJxary2ZCRDK1mOQG43/i+SjCWs8kWTBoYtxP3RZSTDOLIcgcwtMylGYYWBTAPDFubsfRmxhRwvfr/oCkgyGhjINEB0wMaJXdJhIMcLA5lioCsMZBpYdkleOuk4BnK8MJApBppNjsua5OVQeI3JJhA2/lGsclxVDGSKQdjGNcg0sNhClg8DOV4YyBQDtpBpoPEgMfkwkOOFgUwx0KyccEMDy67L8dJJx/lDxs8R419VmgbwDFKKQZg91jTA2EKWT1Az/vbLxg9kto4pRpqFLWQaWDbwGpONpmsIho0dysY/R4yHSkR56t138dS776KqIXK+55j8fPzissswd+xYwZUZBwO5d5a+sBpvfPAZ9hw4CqfDjjNHD8W935mH8iF5okszPKvJWsirn1mNz9Z9hqNVR2F32DF03FDMu2Me8krNdS0EwgHYLMY9Cc74gcx9Y6MUpaXhP6+8EsNycqADePajj/D/li3DZz/7GcYUFIguzxh0k71aDpANX+zCt/7fhRg/ohShcBi//dPLuP7Hj2Ptn+6H2+UQXZ6hme0t365Pd+HCf7sQpaNLEQ6H8fLSl/H47Y/j/r/eD4eJroWQZuzhT0XXDf7q1dwMvPSS6CoMLeMHP8Bvr7oKN517ruhSDKFpiBut9k7RZUinobkNk+bfg7/8192YNm646HIMrT7Jhc02458e1FdtTW24Z9Y9uPv3d2P4mea5FhaMWYA0Z5roMk6JLWSJhTUNf928GR2BAKYPHSq6HMPgroZ909YRCZi05CTBlRif2S8xb3vkWkhKMde1oOnGzhPjB7LBG/AibD10CNN//Wv4gkF4HA6s+vd/x2h2V5+A10ysNE3DkmUvYfKYcowoKxRdDgmkaRpeeuQllI8vR+EZ5roWjN4hbPxApm5G5OZiy89+hhavF3/79FPcsHw53r37boYy9dnP//tF7Kw6jL899kPRpZBgL/76RRzecxg//COvhcFm/GVPitk7h2Jnt1pxRk4OJpWU4D+uvBLji4rw+Ntviy7LOIz9JthwfvHEi3h7w1asePgu5Geniy6HBHrx1y9i6wdbcdfv7kJ6rvmuBcXgeWL8FrLBf4FGoOk6/Nw8pYti+hG++NB1Hb98cgXe+GALVjxyF4bkZ4kuSRpme8+n6zpW/GYFtryzBXc9fReyCs15LRj9tYGBLJn7Vq3C3DFjUJyRgTa/Hy9s3Ih3du3CG9/7nujSSDI//+8X8X9vb8QfltyGJLcTtY0tAICUJBecDrvg6oxNN9nr0ou/fhEbX9+I2x65DU63Ey31kWvB5XHB7jTPtcAWcn8Z/Bc42Grb2nD98uU40tKCVJcL4woL8cb3vodZo0eLLs04DD5xwyief+VdAMDVdz8Sdf9vf3gD/m3O2SJKIkHe/VvkWnjk1uhr4YZf3oCzv2Gea8GiGHtfXeOvQ25vB154QXQVJJHmIjdaHFyHTAPnSLIbX1h4jcnmhvE3wGE17kYnxp/U5TDuL4+MSQ2LroDMLsSOOynZLcbufjd+INtsgGr8Msk4LCFjd/qQ/AIG32CCurOpNsOPIcuRdGwlUwxUBjINsJAcr5x0AqO3jgEGMpmQJcTWCw2sgOkWPpkfAzle7Mb/RZJxqEEGMg2sgMJAlo2RJ3MdI0cgO52iKyCJqAHO6qKBFQDf9MmGLeR4YQuZYqBquuF35CG5+XW+6ZONy+oSXcJpyRHIHEOmGKkw9gYAJLcgu6yl47F7RJdwWgxkMiWVhyLTAAmrKjusJZTsSBZdwmnJEchJ5jokmwaeVWcLmQZGwGr8HYepO7aQ4yXZ+O9syFisYTkubZJPwMo3ezJiIMdLSoroCkgytgDH+Ghg+FQOh8hGgcJAjhuPh9tnUkxsPo7y0cDwqnyzJxu3zQ1VMX6GGL9CIBLGHuO/uyHjsHlDoksgk+rgDGvpyNA6BmQJZIDd1hQTiz8MVaLLm+TRrnANsmzSXemiS+gVeV6xOLGLYmTVORuW4q8d7H2RTYYrQ3QJvSJPILOFTDGyaZwNS/EVtlgQ4sES0sl0ZYouoVcYyGRatoDoCshs/FyDLKVMNwM5vhjIFCMrA5nirN0qz0smRXjsHikOlgBkCuT0dC59opjYOznWR/HVxgaydGQZPwZkCmRVBTLk+cWSeLbOICw8ZILiqJETuqQjy/gxIFMgA0B2tugKSDKOsE10CWQWCtCsBEVXQTGSZfwYYCCTyTkCcl3iZFx+m52nPEkoz5MnuoRek+vVioFMMXK0s4uR4qODh0pIJ8WRArfNLbqMXpMrkNPTAS47oBjY2wJQwMMAqP/arLyOZFOQXCC6hJjIFcic2EUxUnTAoXEcmfqvWeWWmbLJ9+SLLiEmcgUyAOTkiK6AJOMIsKuR+kkB6sGF7bLJT2YgD6ysLNEVkGQcXm51SP3jtTu4ZaZkPHaPNKc8HSNfIOfmiq6AJONoZcuG+qfZzl4W2cg2fgzIGMipqTwbmWKihjQ4dIfoMkhi9Rw/lg4DebAUFYmugCTj9rGFQ32jKwpqOH4sFQUKilOLRZcRMwYyJQRXE19QqW+8DjvCCsePZZLnyYPT6hRdRszkDOTCQkDhmkDqPZs3BBvkOPGFjKXZxt4V2ZSmlYouoU/kDGSHg7t2Uczcfm4qQ7Grs3D8WDYM5MHGbmuKkbuZBwNQbHRVQS38osugGGS4MpDsSBZdRp8wkClh2NuDsIKtZOq9NoeDB0pIRtbWMSBzIOfkAHaOCVJsXAFuo0m9V8PLRToMZBFUNTK5iygG7ja2d6iXFOCgytn5MklzpiHLLe9ujvIGMgCUlYmugCTjaPbDAs6apdNrdzgRYIe1VIZnDhddQr/IHcglJTyOkWKiAPD4uWsXnV6tnUsrZaJAYSALZbMBxfLtxkJieRrYDUmnd0Dl7GqZFKUUwW1ziy6jX+QOZAA44wzRFZBkrN4QnBpbyXRqHQ47fOyulsqIrBGiS+g3+QO5uJizrSlmya3sjqRTq3dwKEwmDosDJaklosvoN/kDWVU5uYti5mr0cXIXndIBhd3VMinPKIdFlf//s/yBDLDbmmKm6JzcRT1rdzrRoXC7TJmMyholuoS4MEcgFxQALpfoKkgynNxFPTnE92lSKUguQKY7U3QZcWGOQFYUoLxcdBUkGU7uopOFLRbsV3yiy6AYjMsdJ7qEuDFHIAPAcLnXn5EYnNxFJ6p3ce9qmaQ501Ccap6lr+YJ5KwsIC9PdBUkGXeDDzZww2KK2GfhiWAy+VrO10SXEFfmCWQAGDNGdAUkodRWLnEhoNPhQIvCQJaF0+qUfmeuk5krkMvKALfcO7XQ4HPXedlKJhx2mOvl0OxGZ482xVKnE5nrClRVYPRo0VWQZBQAKW1sJScyTVVRrXIylyysqhVjss3XI2quQAaAUaMiwUwUg6RaL6xgKCeqercTIeiiy6BeGp09Gi6b+Za6mi+5XC5g6FDRVZBkFACp7ey2TkgKsNPKnblkYVNtmJA3QXQZA8J8gQwAY8eKroAkxFZyYmp0OdEJ7swlizE5Y+C0OkWXMSDMGcg5OUB2tugqSDKKDqR0sJWcaCrtDGNZ2C12jM8dL7qMAWPOQAaA8eb9R6OB46lhKzmRtLqcaAaXOsliQt4EOKzm3V3PvIE8dCiQkSG6CpKMogPpLQzkRLHHwX25ZJFkS8LYHHMPR5o3kAFg0iTRFZCE3PU+OHVzjlHRcR0OO2rBA0ZkMalgEqyqud8smzuQy8qATHOcAkKDK70mDO5ybW5VTnO//JlJTlIORmaNFF3GgDP/FclWMvWBvSOI5AB3fTMrv92OgzzVSQoKFJxbfK7oMgaF+QO5tDRy8ARRjFKP+GCBubbmo4hKl/lf+sxiZNZIZLkT4zU8Ma7KyZNFV0ASUkMa0trsosugOOt0OnCIrWMpOK1OTC2cKrqMQZMYgVxcHFmbTBQjT60XDp2hbCY7ndwiUxZTC6eaepnTyRIjkAGOJVOfpdeLroDipdXl5MxqSSTKRK4TJU4gDxkCFBaKroIk5GgNIDlovo3sE44CbOeuXFJQFRXnFZ8nuoxBlziBDADTpwMKF7NQ7NIO+riDl+TqktxoUbgrlwwm5U9CpjvxlqwmViBnZESOZySKkarpyKznjGtZaaqK7VZO5JJBTlKOaU9zOp3ECmQAmDIFcCTOJAGKH2eLHyl+dl3L6GCSEz5wm0yjs6pWzCidASVBezITL5AdjkgoE/VB2mEfbOCsa5n47XbsUDtFl0G9MK1wGlKdqaLLECbxAhmIdFvzeEbqA0XTkVWjQ+HGmtLY5gZ0/nMZXlFKEcbkjBFdhlCJGciKApx7Lid4UZ/Y24NI62TXtQzqPG7Uc5mT4dktdlxQcoHoMoRLzEAGIi1kTvCiPko50gmXxhOhjCxktWKrxSu6DOqFmWUzkWRPEl2GcIkbyAAwdSrg5gEC1DeZBwOwcCmUYVUmWRFUuCuX0Z2ZfyaKU4tFl2EIiR3Idjtw/vmiqyBJWYIasutUjicbUKvLif3cr9rwilKKMCmfuygek9iBDET2uWbXNfWRozWAzFZ2XRuJpqr43MENQIzOY/dgZtnMhF3i1BMGMhDZwSslRXQVJKmkOi/XJxtIlceBTnCLTCOzKBbMGjoLTivfzJ6IgQwAViswYwZnXVOfpR30cpKXAbS4XahUOZHL6M4ecjayk7j09GQM5GNyc4Hx40VXQZJSAGQdCMAGm+hSElbIasVnNr/oMug0xuaMxahsDhP2hIF8osmTgczE29Cc4kMNacg+Aqj8byXE9iQL/Aq3xzSysrQyTC+aLroMw+Irx4lUNdJ1beEhAtQ3ts4gshq5teZgO+Jx4YjC1rGR5SblYkZZ4u5T3RsM5JNlZHCva+oXV5MPGR2c5DVYfA47tlk5bmxkqY5UzDljDqwq1+1/FQZyT8aNA4YOFV0FSSz5qBfpXm46M9A0VcWnTo3nOBmY0+rE3GFzOaO6FxjIp3LBBUB6uugqSGIphzuR6mcoD6Q9yQ60KSHRZdApWFUrLjnjEqQ4uKy0NxjIp2KzAbNnR3bzIuqjtIOdSAkwlAdCrceNvQq7qo3qWBjnJOWILkUaDOSvkpoameRF1A/pBzqRHOSYcjx1OJ3YYuEZx0ZlVa2YUz4HBckFokuRCgP5dEpKgEnca5X6J2O/F0khhnI8BG02bHQGeMaxQVkUC2aXz0ZhSqHoUqTDQO6NSZMie14T9UNmtRfuMEO5PzRVxadJQIDTuAzJolgw54w5KEopEl2KlBjIvTVzZqQLm6iPFABZ1V64ucVmn+1ItqMZPDjCiI61jBnGfcdA7i27HZgzB3A4RFdCElN0IGufDx52X8fsYLIbB3ikoiFZVStml8/GkNQhokuRGgM5FmlpwCWXRA6jIOojBZHu61QfQ7m3mt0ufMlJXIbktDpx2fDLGMZxoOi6rosuQjr79wNr1gAax7Gof9ryXGhM4tKdr9LudOIjp4+jxgaUbE/G3GFzkeZME12KKTCQ+2rXLuCdd0RXQSbQmelEfZofOvhf8WRehwPrXQGE+LsxnExXJuYOmwu3jevs44WB3B+ffw5s2CC6CjIBX6oDdVlBcBPI4/x2O9a7Q5xRbUCFyYWYXT4bNguPG40nBnJ/ffwx8MUXoqsgEwgk2VCXpyMEbgUZtFnxcZKOToRFl0InOSPjDFxYeiFUhVOQ4o2BHA/r1gGVlaKrIBMIOyyoK7TCn8BHCYYtFmzwKNyj2mAUKJhWNA3jcseJLsW0GMjxoGmRSV7794uuhExAV4DmIjda7Yk3q1hTVWxOsaCRa40NxWl14uKhF3MrzAHGQI4XTQPefBOoqhJdCZlER5YLjan+hBlX1lQVn6dYUYuA6FLoBNnubMwqnwWP3SO6FNNjIMeTpkVmXu/eLboSMomg24a6fCBo8hZj2GLBlmQL6hnGhjIicwTOLT4XFtUiupSEwECON10H3nsP2LlTdCVkEpqqoLHYiQ6LOdcrhy0WfJKscktMA7EoFkwfMh2js0eLLiWhMJAHygcfANu3i66CTKQtz4WmJK+pVuSGrFZs8gCtnFluGBmuDMwsm4kMV4boUhIOA3kgcUkUxVkg2Y76HCBogq7doM2GDW4NHQqXNhnF2JyxmFY4jV3UgjCQB9onnwCffiq6CjIRXQFaClxodcrbWvbb7djgCsPLMDaEJFsSLii9gCc1CcZAHgxffBHZ0Yu/aoqjgMeOhlwgIFlr2eew42NnCH4lMWaPG92wjGE4p/gc2C120aUkPAbyYKmqAt5+GwhxrIziR1eA1nwXWlw+KfbCbnG7sMnmQ1gxfq1ml2xPxjnF56A4tVh0KfQvDOTB1NAAvP460NEhuhIymaDbhoY8BX7FuK3lI8lufMEjFIVTFRXjcsfhzPwzYVV5lKyRMJAHW2cn8MYbQF2d6ErIZHQAbflutLh9htpMRFcUVCY7sU8157ItmRQkF+Dc4nN5XKJBMZBFCIUiG4js3Su6EjKhsN2Cljw72mziAzBsseCLZAt33xLMZXXhrKKzMCxzmOhS6CswkEXiDGwaQEG3DU25FnhVn5Cf77fb8YlbQzvXGAtjUSwYkzMGZ+afyUlbEmAgi7Z7d2RnL072ogHiS3OgKUNHYBDHl1tdTnxi9yPIyVtCKFAwImsEJuVPQpI9SXQ51EsMZCNoagLeegtobBRdCZlYR7YLzSnBAT1vWVcU7E92YgfHi4UpSyvDlMIpHCeWEAPZKEIh4KOPgH/+U3QlZGK6qqAtz4VWlx9hxHdTjqDNhi+SFB4QIUhhciGmFk5FdlK26FKojxjIRrN3b6QLO8AXNRo4uqqgI9uJVk8oLidJNbtd+NTmYxe1AKVppRifOx65nlzRpVA/MZCNqK0t0oVdWyu6EkoAnZlOtKbq8Cv+mL9XVxXs8zhRyS7qQWVRLBiWOQzjcsexa9pEGMhGpWmRWdhbtoiuhBKEP8WO1kwVnb2cle2327HFrfPYxEHksDgwOns0xuaMhcvmEl0OxRkD2egOHox0Ybe3i66EEkTQZUVbtg0dNv8pNxg56nFhm4VbYA6WbHc2RmSNwLCMYbBZbKLLoQHCQJZBMAhs2gR8+SUPqKBBo6kKOrOcaE8Kw69G5jQEbDZ8maRwo49B4LA4MCxzGEZmjeTZxAmCgSyT2tpIa5nLo2iQBZPsaJwwFO9qh9EcaBVdjqkVpRRhROYIlKaV8lziBMNAlo2mRY5z3LwZCPMsWRoEOTnA+ecDGZFW2tH2o9jduBt7m/bCFxKzC5iZKFCQ58lDWXoZStNK4bF7RJdEgjCQZdXaCrz/PnDokOhKyKzsdmDqVGDUKEBRun1Z13XUdtSiuqUa1c3VaPI1CShSTqqiojC5EGXpZShJLeEELQLAQJbfrl3Axx8DPrZUKE4UBRg+HJgyBXC7e/1tbf42VLdUY3/LfhxuOwxNN86JU0aQZEtCQXIBhqQOQXFqMfeWpm4YyGYQCEQOqfjyS3ZjU/8UFQFnndXVPd1XwXAQR9uP4mj7URxpP4K6jjqE9cS6Nl1WFwqSC7puqc5U0SWRwTGQzaStDdiwgcc6UuwyMoBp04AhQwbk6TVdQ21HbVdI17TXwB+OfSMSo1IVFenOdGS5s5CdlI18Tz7SXemiyyLJMJDNqLY2EsxHjoiuhIzO7QYmTwZGjOhxnHggdQQ60OhtRKO3EU2+pshHb5PhW9I21YZMdyYyXZnIcmch052JDFcGVEUVXRpJjoFsZgcPAhs3AvX1oisho7FagXHjgAkTIn82CF3X0epvRbOvGe2BdnQEOyIfAx1dnw/02LSqqPDYPVG3FEcKUhwpSHWkcgIWDRgGciLYuzcyxsz1y2S3A2PHRm5Op+hq+sQb9MIb8iIQDiAYDiKoBREMByOf/+vPmq5B+VeLX4ECRVGiPtosNjgsDjisjm4frapx3qBQYmEgJ5IDB4DPPwcOHxZdCQ02tzvSIh41CrBx60UiI2IgJ6K6ukgw79vHrTjNLjUVGD8eGDYMsHDXJyIjYyAnstbWyK5fu3YBoZDoaiiesrIi48NlZYM+WYuI+oaBTJFNRbZtA3bsADo7RVdDfWWxRAJ45EigoEB0NUQUIwYyHafrkXHmnTuB6urIvtlkfBkZkRAeNgxwOERXQ0R9xECmnvl8wO7dkVYzZ2cbj80GlJdHgjgnR3Q1RBQHDGQ6vfr6SKt5927Ab57dlaSjKEBubmQTj/JyQ60fJqL+YyBT74XDkc1GqqsjN69XdEXmp6pAYWFkbLikBHBxUwois2IgU9/oemSLzupqoKoKaG4WXZF52GyRPaXLyiIf7TwViCgRMJApPlpbI8FcXQ0cPcr1zbFKTo60hEtLIx+5Zpgo4TCQKf4CgUgoH7vV1fFYyJOlpgL5+cdvHo/oiohIMAYyDTxNi4TysYCuqYnM4k4kGRnHwzcvL7KVJRHRCRjIJEZzcySkm5oif25sjJznLPvl6HRGwjcjA0hPP/6R48BEdBoMZDKOcDgSzieGdHMz0NEBBIOCizuBxQIkJUVuKSnR4cuWLxH1EQOZ5BAMRrb1PHbzert/HgpFQv3k2+lYLJGZzcdudnvkdix03e7jf05K4m5YRDQgGMhkfieGs65H1vZaLJGbqoqujgbB8uXLsWjRoqj7srOzMWbMGPzoRz/C3LlzBVVGdBy3+iHzOxa+lPCWLFmCsrIy6LqOmpoaLF++HF//+tfxyiuv4LLLLhNdHiU4BjIRJYy5c+di8uTJXZ/fdNNNyM3NxYsvvshAJuHYX0dECSstLQ0ulwtW7gtOBsCrkIgSRktLC+rr66HrOmpra/HEE0+gvb0d1113nejSiBjIRJQ4Lr744qjPHQ4H/ud//gezZs0SVBHRcQxkIkoYS5cuxfDhwwEANTU1eP7553HzzTcjOTkZ8+bNE1wdJToueyIi0zu27GnTpk1Rk7o0TcPEiRNRV1eHqqoq2LmjGgnESV1ElLBUVcWMGTNw5MgRVFZWii6HEhwDmYgSWigUAgC0t7cLroQSHQOZiBJWMBjEmjVrYLfbMWrUKNHlUILjpC4iShirV6/Gjh07AAC1tbV44YUXUFlZiXvvvRcpKSmCq6NEx0AmooTxi1/8ouvPTqcTI0eOxFNPPYVbb71VYFVEEZxlTUREZAAcQyYiIjIABjIREZEBMJDJVJYtWwZFUTBt2jTRpRARxYRjyGQq55xzDg4fPoyqqipUVlbijDPOEF0SEVGvsIVMprFv3z6sX78e//Vf/4Xs7GxUVFSILomIqNcYyGQaFRUVSE9Px6WXXor58+czkIlIKgxkMo2KigrMmzcPdrsd11xzDSorK7Fp0ybRZRER9QoDmUxh8+bN2LFjB66++moAwLnnnouioiK2kolIGgxkMoWKigrk5uZixowZAABFUbBw4UKsWLEC4XBYcHVERKfHQCbphcNhrFixAjNmzMC+ffuwe/du7N69G9OmTUNNTQ3eeust0SUSEZ0Wlz2R9NauXYvZs2ef8uvXX389nn322UGsiIgodgxkkt6NN96I1atXY+nSpd2+tnLlSvzjH/9ATU0NXC6XgOqIiHqHgUxS83q9yM3Nxb/927/hT3/6U7evr1+/Hueccw5WrFiBhQsXCqiQiKh3OIZMUvv73/+OtrY2XH755T1+/ayzzuImIUQkBQYySa2iogJOpxOzZs3q8euqquLSSy/F66+/joaGhkGujoio99hlTUREZABsIRMRERkAA5mIiMgAGMhEREQGwEAmIiIyAAYyERGRATCQiYiIDICBTEREZAAMZCIiIgNgIBMRERkAA5mIiMgAGMhEREQGwEAmIiIygP8PqF/s4org+7YAAAAASUVORK5CYII=\n"
                },
                "metadata": {}
              }
            ]
          }
        },
        "76c826fb6bef4182a529498a31449ccb": {
          "model_module": "@jupyter-widgets/base",
          "model_name": "LayoutModel",
          "model_module_version": "1.2.0",
          "state": {
            "_model_module": "@jupyter-widgets/base",
            "_model_module_version": "1.2.0",
            "_model_name": "LayoutModel",
            "_view_count": null,
            "_view_module": "@jupyter-widgets/base",
            "_view_module_version": "1.2.0",
            "_view_name": "LayoutView",
            "align_content": null,
            "align_items": null,
            "align_self": null,
            "border": null,
            "bottom": null,
            "display": null,
            "flex": null,
            "flex_flow": null,
            "grid_area": null,
            "grid_auto_columns": null,
            "grid_auto_flow": null,
            "grid_auto_rows": null,
            "grid_column": null,
            "grid_gap": null,
            "grid_row": null,
            "grid_template_areas": null,
            "grid_template_columns": null,
            "grid_template_rows": null,
            "height": null,
            "justify_content": null,
            "justify_items": null,
            "left": null,
            "margin": null,
            "max_height": null,
            "max_width": null,
            "min_height": null,
            "min_width": null,
            "object_fit": null,
            "object_position": null,
            "order": null,
            "overflow": null,
            "overflow_x": null,
            "overflow_y": null,
            "padding": null,
            "right": null,
            "top": null,
            "visibility": null,
            "width": null
          }
        },
        "a55750dd06474d2e82becebf61f9d3d3": {
          "model_module": "@jupyter-widgets/controls",
          "model_name": "VBoxModel",
          "model_module_version": "1.5.0",
          "state": {
            "_dom_classes": [
              "widget-interact"
            ],
            "_model_module": "@jupyter-widgets/controls",
            "_model_module_version": "1.5.0",
            "_model_name": "VBoxModel",
            "_view_count": null,
            "_view_module": "@jupyter-widgets/controls",
            "_view_module_version": "1.5.0",
            "_view_name": "VBoxView",
            "box_style": "",
            "children": [
              "IPY_MODEL_15fbf6e9e22f43e781788e3daf088195",
              "IPY_MODEL_e71a101dc27549dbae681bd602de7cbf"
            ],
            "layout": "IPY_MODEL_f501c455dfab4f3db237947dadcc97b0"
          }
        },
        "15fbf6e9e22f43e781788e3daf088195": {
          "model_module": "@jupyter-widgets/controls",
          "model_name": "DropdownModel",
          "model_module_version": "1.5.0",
          "state": {
            "_dom_classes": [],
            "_model_module": "@jupyter-widgets/controls",
            "_model_module_version": "1.5.0",
            "_model_name": "DropdownModel",
            "_options_labels": [
              "A ∩ B ∩ C",
              "A ∪ B ∪ C",
              "Nur A (A - B - C)",
              "Nur B (B - A - C)",
              "Nur C (C - A - B)",
              "A ∩ B (ohne C)",
              "A ∩ C (ohne B)",
              "B ∩ C (ohne A)"
            ],
            "_view_count": null,
            "_view_module": "@jupyter-widgets/controls",
            "_view_module_version": "1.5.0",
            "_view_name": "DropdownView",
            "description": "Operation:",
            "description_tooltip": null,
            "disabled": false,
            "index": 1,
            "layout": "IPY_MODEL_a15ffe934f6b46ea93bdfdc4e2e942d2",
            "style": "IPY_MODEL_e790bf05f7494bc7a136e34cea49d7f9"
          }
        },
        "e71a101dc27549dbae681bd602de7cbf": {
          "model_module": "@jupyter-widgets/output",
          "model_name": "OutputModel",
          "model_module_version": "1.0.0",
          "state": {
            "_dom_classes": [],
            "_model_module": "@jupyter-widgets/output",
            "_model_module_version": "1.0.0",
            "_model_name": "OutputModel",
            "_view_count": null,
            "_view_module": "@jupyter-widgets/output",
            "_view_module_version": "1.0.0",
            "_view_name": "OutputView",
            "layout": "IPY_MODEL_27e2e5b4776a449ea9f6c51f51620b5a",
            "msg_id": "",
            "outputs": []
          }
        },
        "f501c455dfab4f3db237947dadcc97b0": {
          "model_module": "@jupyter-widgets/base",
          "model_name": "LayoutModel",
          "model_module_version": "1.2.0",
          "state": {
            "_model_module": "@jupyter-widgets/base",
            "_model_module_version": "1.2.0",
            "_model_name": "LayoutModel",
            "_view_count": null,
            "_view_module": "@jupyter-widgets/base",
            "_view_module_version": "1.2.0",
            "_view_name": "LayoutView",
            "align_content": null,
            "align_items": null,
            "align_self": null,
            "border": null,
            "bottom": null,
            "display": null,
            "flex": null,
            "flex_flow": null,
            "grid_area": null,
            "grid_auto_columns": null,
            "grid_auto_flow": null,
            "grid_auto_rows": null,
            "grid_column": null,
            "grid_gap": null,
            "grid_row": null,
            "grid_template_areas": null,
            "grid_template_columns": null,
            "grid_template_rows": null,
            "height": null,
            "justify_content": null,
            "justify_items": null,
            "left": null,
            "margin": null,
            "max_height": null,
            "max_width": null,
            "min_height": null,
            "min_width": null,
            "object_fit": null,
            "object_position": null,
            "order": null,
            "overflow": null,
            "overflow_x": null,
            "overflow_y": null,
            "padding": null,
            "right": null,
            "top": null,
            "visibility": null,
            "width": null
          }
        },
        "a15ffe934f6b46ea93bdfdc4e2e942d2": {
          "model_module": "@jupyter-widgets/base",
          "model_name": "LayoutModel",
          "model_module_version": "1.2.0",
          "state": {
            "_model_module": "@jupyter-widgets/base",
            "_model_module_version": "1.2.0",
            "_model_name": "LayoutModel",
            "_view_count": null,
            "_view_module": "@jupyter-widgets/base",
            "_view_module_version": "1.2.0",
            "_view_name": "LayoutView",
            "align_content": null,
            "align_items": null,
            "align_self": null,
            "border": null,
            "bottom": null,
            "display": null,
            "flex": null,
            "flex_flow": null,
            "grid_area": null,
            "grid_auto_columns": null,
            "grid_auto_flow": null,
            "grid_auto_rows": null,
            "grid_column": null,
            "grid_gap": null,
            "grid_row": null,
            "grid_template_areas": null,
            "grid_template_columns": null,
            "grid_template_rows": null,
            "height": null,
            "justify_content": null,
            "justify_items": null,
            "left": null,
            "margin": null,
            "max_height": null,
            "max_width": null,
            "min_height": null,
            "min_width": null,
            "object_fit": null,
            "object_position": null,
            "order": null,
            "overflow": null,
            "overflow_x": null,
            "overflow_y": null,
            "padding": null,
            "right": null,
            "top": null,
            "visibility": null,
            "width": "70%"
          }
        },
        "e790bf05f7494bc7a136e34cea49d7f9": {
          "model_module": "@jupyter-widgets/controls",
          "model_name": "DescriptionStyleModel",
          "model_module_version": "1.5.0",
          "state": {
            "_model_module": "@jupyter-widgets/controls",
            "_model_module_version": "1.5.0",
            "_model_name": "DescriptionStyleModel",
            "_view_count": null,
            "_view_module": "@jupyter-widgets/base",
            "_view_module_version": "1.2.0",
            "_view_name": "StyleView",
            "description_width": "initial"
          }
        },
        "27e2e5b4776a449ea9f6c51f51620b5a": {
          "model_module": "@jupyter-widgets/base",
          "model_name": "LayoutModel",
          "model_module_version": "1.2.0",
          "state": {
            "_model_module": "@jupyter-widgets/base",
            "_model_module_version": "1.2.0",
            "_model_name": "LayoutModel",
            "_view_count": null,
            "_view_module": "@jupyter-widgets/base",
            "_view_module_version": "1.2.0",
            "_view_name": "LayoutView",
            "align_content": null,
            "align_items": null,
            "align_self": null,
            "border": null,
            "bottom": null,
            "display": null,
            "flex": null,
            "flex_flow": null,
            "grid_area": null,
            "grid_auto_columns": null,
            "grid_auto_flow": null,
            "grid_auto_rows": null,
            "grid_column": null,
            "grid_gap": null,
            "grid_row": null,
            "grid_template_areas": null,
            "grid_template_columns": null,
            "grid_template_rows": null,
            "height": null,
            "justify_content": null,
            "justify_items": null,
            "left": null,
            "margin": null,
            "max_height": null,
            "max_width": null,
            "min_height": null,
            "min_width": null,
            "object_fit": null,
            "object_position": null,
            "order": null,
            "overflow": null,
            "overflow_x": null,
            "overflow_y": null,
            "padding": null,
            "right": null,
            "top": null,
            "visibility": null,
            "width": null
          }
        },
        "9c265449007a4ea79ebf3dd5ec006191": {
          "model_module": "@jupyter-widgets/output",
          "model_name": "OutputModel",
          "model_module_version": "1.0.0",
          "state": {
            "_dom_classes": [],
            "_model_module": "@jupyter-widgets/output",
            "_model_module_version": "1.0.0",
            "_model_name": "OutputModel",
            "_view_count": null,
            "_view_module": "@jupyter-widgets/output",
            "_view_module_version": "1.0.0",
            "_view_name": "OutputView",
            "layout": "IPY_MODEL_62bd9f0a68934c3bb020e0627a54c9a2",
            "msg_id": "",
            "outputs": [
              {
                "output_type": "display_data",
                "data": {
                  "text/plain": "<Figure size 700x700 with 1 Axes>",
                  "image/png": "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\n"
                },
                "metadata": {}
              }
            ]
          }
        },
        "62bd9f0a68934c3bb020e0627a54c9a2": {
          "model_module": "@jupyter-widgets/base",
          "model_name": "LayoutModel",
          "model_module_version": "1.2.0",
          "state": {
            "_model_module": "@jupyter-widgets/base",
            "_model_module_version": "1.2.0",
            "_model_name": "LayoutModel",
            "_view_count": null,
            "_view_module": "@jupyter-widgets/base",
            "_view_module_version": "1.2.0",
            "_view_name": "LayoutView",
            "align_content": null,
            "align_items": null,
            "align_self": null,
            "border": null,
            "bottom": null,
            "display": null,
            "flex": null,
            "flex_flow": null,
            "grid_area": null,
            "grid_auto_columns": null,
            "grid_auto_flow": null,
            "grid_auto_rows": null,
            "grid_column": null,
            "grid_gap": null,
            "grid_row": null,
            "grid_template_areas": null,
            "grid_template_columns": null,
            "grid_template_rows": null,
            "height": null,
            "justify_content": null,
            "justify_items": null,
            "left": null,
            "margin": null,
            "max_height": null,
            "max_width": null,
            "min_height": null,
            "min_width": null,
            "object_fit": null,
            "object_position": null,
            "order": null,
            "overflow": null,
            "overflow_x": null,
            "overflow_y": null,
            "padding": null,
            "right": null,
            "top": null,
            "visibility": null,
            "width": null
          }
        }
      }
    }
  },
  "cells": [
    {
      "cell_type": "code",
      "execution_count": 1,
      "metadata": {
        "colab": {
          "base_uri": "https://localhost:8080/"
        },
        "id": "ocIqh2QY_VNF",
        "outputId": "2177a900-935e-427e-94c3-c6ffa5ef69c8"
      },
      "outputs": [
        {
          "output_type": "stream",
          "name": "stdout",
          "text": [
            "Logische Funktionen in Python\n",
            "\n",
            "A      B      C      AND    OR     XOR    NOT A  NOT B  NOT C \n",
            "--------------------------------------------------------------\n",
            "True   True   True   True   True   True   False  False  False \n",
            "True   True   False  False  True   False  False  False  True  \n",
            "True   False  True   False  True   False  False  True   False \n",
            "True   False  False  False  True   True   False  True   True  \n",
            "False  True   True   False  True   False  True   False  False \n",
            "False  True   False  False  True   True   True   False  True  \n",
            "False  False  True   False  True   True   True   True   False \n",
            "False  False  False  False  False  False  True   True   True  \n"
          ]
        }
      ],
      "source": [
        "def logic_test():\n",
        "    values = [True, False]\n",
        "\n",
        "    print(\"Logische Funktionen in Python\\n\")\n",
        "    print(f\"{'A':<6} {'B':<6} {'C': <6} {'AND':<6} {'OR':<6} {'XOR':<6} {'NOT A':<6} {'NOT B':<6} {'NOT C':<6}\")\n",
        "    print(\"-\" * 62)\n",
        "\n",
        "    for a in values:\n",
        "        for b in values:\n",
        "          for c in values:\n",
        "            and_result = a and b and c\n",
        "            or_result = a or b or c\n",
        "            xor_result = a ^ b ^ c # XOR mit Bit-Operator ^\n",
        "            not_a = not a\n",
        "            not_b = not b\n",
        "            not_c = not c\n",
        "\n",
        "            print(f\"{str(a):<6} {str(b):<6} {str(c):<6} {str(and_result):<6} {str(or_result):<6} {str(xor_result):<6} {str(not_a):<6} {str(not_b):<6} {str(not_c):<6}\")\n",
        "\n",
        "if __name__ == \"__main__\":\n",
        "    logic_test()"
      ]
    },
    {
      "cell_type": "markdown",
      "source": [
        "**Achtung:** XOR-Verknüpfung von drei Variablen - Interpretationsspielraum\n",
        "\n",
        "* Sinnvolle Interpretation 1: True, wenn eine ungerade Zahl von Bedingungen zutrifft (siehe Wahrheitstabelle im Beispiel)\n",
        "* Sinnvolle Interpretation 2 : True, wenn genau eine Bedingung zutrifft (also nicht zwei oder drei) ▶ (A and not B and not C) or\n",
        "(not A and B and not C) or\n",
        "(not A and not B and C)\n"
      ],
      "metadata": {
        "id": "toucY9HLs79R"
      }
    },
    {
      "cell_type": "code",
      "source": [
        "import ipywidgets as widgets\n",
        "from IPython.display import display\n",
        "\n",
        "# Dropdown-Menüs für A und B\n",
        "dropdown_a = widgets.Dropdown(options=['True', 'False'], value='True', description='A:')\n",
        "dropdown_b = widgets.Dropdown(options=['True', 'False'], value='False', description='B:')\n",
        "\n",
        "# Ausgabefelder\n",
        "output = widgets.Output()\n",
        "\n",
        "# Logikfunktion\n",
        "def evaluate_logic(a, b):\n",
        "    a_val = a == 'True'\n",
        "    b_val = b == 'True'\n",
        "    with output:\n",
        "        output.clear_output()\n",
        "        print(f\"A AND B: {a_val and b_val}\")\n",
        "        print(f\"A OR B: {a_val or b_val}\")\n",
        "        print(f\"A XOR B: {a_val ^ b_val}\")\n",
        "        print(f\"NOT A: {not a_val}\")\n",
        "        print(f\"NOT B: {not b_val}\")\n",
        "\n",
        "# Button\n",
        "button = widgets.Button(description=\"Auswerten\")\n",
        "\n",
        "def on_button_click(b):\n",
        "    evaluate_logic(dropdown_a.value, dropdown_b.value)\n",
        "\n",
        "button.on_click(on_button_click)\n",
        "\n",
        "# Anzeige\n",
        "display(dropdown_a, dropdown_b, button, output)\n"
      ],
      "metadata": {
        "colab": {
          "base_uri": "https://localhost:8080/",
          "height": 111,
          "referenced_widgets": [
            "504c1f500f0e49b59694f0aa00f00829",
            "42262be9d338492e83536ad9107d3827",
            "19e914c987b14c8cb0daef39108b07b3",
            "8bee85a2705c49cba8526559289363ce",
            "308571c6d9df4fe3a316ddf2b16e4e30",
            "de6e2021d2bc413db153cdc8fd78cebd",
            "0420eb4ddcd44746b832ecb4bc6bfe39",
            "55f33af9839e4acf8d1ee238a225f50f",
            "c113ac2838294f44b2d7823eba60f797",
            "7ed44f0ebcb046189114c822e348fd45",
            "8fa89040d70d419488fbbd613803de3d"
          ]
        },
        "id": "msToeX0UBtJb",
        "outputId": "896fdd56-c885-45ff-d06e-0d82faf1c76c"
      },
      "execution_count": 2,
      "outputs": [
        {
          "output_type": "display_data",
          "data": {
            "text/plain": [
              "Dropdown(description='A:', options=('True', 'False'), value='True')"
            ],
            "application/vnd.jupyter.widget-view+json": {
              "version_major": 2,
              "version_minor": 0,
              "model_id": "504c1f500f0e49b59694f0aa00f00829"
            }
          },
          "metadata": {}
        },
        {
          "output_type": "display_data",
          "data": {
            "text/plain": [
              "Dropdown(description='B:', index=1, options=('True', 'False'), value='False')"
            ],
            "application/vnd.jupyter.widget-view+json": {
              "version_major": 2,
              "version_minor": 0,
              "model_id": "8bee85a2705c49cba8526559289363ce"
            }
          },
          "metadata": {}
        },
        {
          "output_type": "display_data",
          "data": {
            "text/plain": [
              "Button(description='Auswerten', style=ButtonStyle())"
            ],
            "application/vnd.jupyter.widget-view+json": {
              "version_major": 2,
              "version_minor": 0,
              "model_id": "0420eb4ddcd44746b832ecb4bc6bfe39"
            }
          },
          "metadata": {}
        },
        {
          "output_type": "display_data",
          "data": {
            "text/plain": [
              "Output()"
            ],
            "application/vnd.jupyter.widget-view+json": {
              "version_major": 2,
              "version_minor": 0,
              "model_id": "7ed44f0ebcb046189114c822e348fd45"
            }
          },
          "metadata": {}
        }
      ]
    },
    {
      "cell_type": "code",
      "source": [
        "a = True\n",
        "b = False\n",
        "result = (not a or b) and (a != b)\n",
        "result2 = (a or b) and (a != b)\n",
        "print(result2)"
      ],
      "metadata": {
        "colab": {
          "base_uri": "https://localhost:8080/"
        },
        "id": "YG2am2tmAFxL",
        "outputId": "38f1473a-04cd-40c0-c54d-8cf9320b4323"
      },
      "execution_count": 3,
      "outputs": [
        {
          "output_type": "stream",
          "name": "stdout",
          "text": [
            "True\n"
          ]
        }
      ]
    },
    {
      "cell_type": "code",
      "source": [
        "import ipywidgets as widgets\n",
        "from IPython.display import display\n",
        "\n",
        "# Eingabefelder\n",
        "dropdown_a = widgets.Dropdown(options=['True', 'False'], value='True', description='A:')\n",
        "dropdown_b = widgets.Dropdown(options=['True', 'False'], value='False', description='B:')\n",
        "expression_input = widgets.Text(\n",
        "    value='A and not B',\n",
        "    placeholder='Gib einen Ausdruck ein',\n",
        "    description='Ausdruck:',\n",
        "    layout=widgets.Layout(width='50%')\n",
        ")\n",
        "\n",
        "# Ausgabe\n",
        "output = widgets.Output()\n",
        "\n",
        "# Auswertelogik\n",
        "def evaluate_expression(a_str, b_str, expression):\n",
        "    a = a_str == 'True'\n",
        "    b = b_str == 'True'\n",
        "    try:\n",
        "        result = eval(expression, {}, {'A': a, 'B': b})\n",
        "        with output:\n",
        "            output.clear_output()\n",
        "            print(f\"A = {a}, B = {b}\")\n",
        "            print(f\"Ausdruck: {expression}\")\n",
        "            print(f\"Ergebnis: {result}\")\n",
        "    except Exception as e:\n",
        "        with output:\n",
        "            output.clear_output()\n",
        "            print(\"Fehler im Ausdruck:\")\n",
        "            print(e)\n",
        "\n",
        "# Button und Event-Handler\n",
        "button = widgets.Button(description=\"Auswerten\")\n",
        "def on_button_click(b):\n",
        "    evaluate_expression(dropdown_a.value, dropdown_b.value, expression_input.value)\n",
        "\n",
        "button.on_click(on_button_click)\n",
        "\n",
        "# Anzeige im Notebook\n",
        "display(dropdown_a, dropdown_b, expression_input, button, output)\n"
      ],
      "metadata": {
        "colab": {
          "base_uri": "https://localhost:8080/",
          "height": 142,
          "referenced_widgets": [
            "6634d0b64ff34f258bff2736d6253561",
            "63e66ef1c5da443c8cb51dfc1ee5b701",
            "596e3735f9e94d8cba68adf33f62fa1f",
            "73db1e5b06284aec8e0161a62ac33cc9",
            "2d484948a0be4819b57723d8bf077ef8",
            "2b36e3ab84af4f0cbbbd10c353923803",
            "64a5f05dca2140669fadb682e311bffb",
            "4895033bb7324dd5bf8e97581f0d4337",
            "21ef2644e18f4c0485cb1540bc754f30",
            "b3548da1259a4d319e9ed98ffdc49baa",
            "1bbd2d5a54ff4b96b404c6e34d909992",
            "8514a4dba13242b9b8235140695beb54",
            "f819b7337e64409ab6371448631a6c20",
            "a8bac6f6448a41dbbaa1a07c97bacff9"
          ]
        },
        "id": "IpWicetmUbyQ",
        "outputId": "6137d76f-7f04-44a5-d5f2-3c1256d01918"
      },
      "execution_count": 4,
      "outputs": [
        {
          "output_type": "display_data",
          "data": {
            "text/plain": [
              "Dropdown(description='A:', options=('True', 'False'), value='True')"
            ],
            "application/vnd.jupyter.widget-view+json": {
              "version_major": 2,
              "version_minor": 0,
              "model_id": "6634d0b64ff34f258bff2736d6253561"
            }
          },
          "metadata": {}
        },
        {
          "output_type": "display_data",
          "data": {
            "text/plain": [
              "Dropdown(description='B:', index=1, options=('True', 'False'), value='False')"
            ],
            "application/vnd.jupyter.widget-view+json": {
              "version_major": 2,
              "version_minor": 0,
              "model_id": "73db1e5b06284aec8e0161a62ac33cc9"
            }
          },
          "metadata": {}
        },
        {
          "output_type": "display_data",
          "data": {
            "text/plain": [
              "Text(value='A and not B', description='Ausdruck:', layout=Layout(width='50%'), placeholder='Gib einen Ausdruck…"
            ],
            "application/vnd.jupyter.widget-view+json": {
              "version_major": 2,
              "version_minor": 0,
              "model_id": "64a5f05dca2140669fadb682e311bffb"
            }
          },
          "metadata": {}
        },
        {
          "output_type": "display_data",
          "data": {
            "text/plain": [
              "Button(description='Auswerten', style=ButtonStyle())"
            ],
            "application/vnd.jupyter.widget-view+json": {
              "version_major": 2,
              "version_minor": 0,
              "model_id": "b3548da1259a4d319e9ed98ffdc49baa"
            }
          },
          "metadata": {}
        },
        {
          "output_type": "display_data",
          "data": {
            "text/plain": [
              "Output()"
            ],
            "application/vnd.jupyter.widget-view+json": {
              "version_major": 2,
              "version_minor": 0,
              "model_id": "f819b7337e64409ab6371448631a6c20"
            }
          },
          "metadata": {}
        }
      ]
    },
    {
      "cell_type": "code",
      "source": [
        "# Imports\n",
        "from matplotlib_venn import venn2\n",
        "import matplotlib.pyplot as plt\n",
        "import ipywidgets as widgets\n",
        "from IPython.display import display, clear_output\n",
        "\n",
        "# Beispielmengen\n",
        "A = set([1, 2, 3, 4, 5])\n",
        "B = set([4, 5, 6, 7])\n",
        "\n",
        "# Dropdown-Menü für die Auswahl der logischen Operation\n",
        "operation_selector = widgets.Dropdown(\n",
        "    options=[\"AND (A ∩ B)\", \"OR (A ∪ B)\", \"A AND NOT B (A - B)\", \"B AND NOT A (B - A)\"],\n",
        "    value=\"AND (A ∩ B)\",\n",
        "    description=\"Operation:\",\n",
        "    style={'description_width': 'initial'},\n",
        "    layout=widgets.Layout(width='60%')\n",
        ")\n",
        "\n",
        "# Ausgabe-Feld\n",
        "output = widgets.Output()\n",
        "\n",
        "# Funktion zur Visualisierung\n",
        "def plot_venn(operation):\n",
        "    with output:\n",
        "        clear_output(wait=True)\n",
        "        plt.figure(figsize=(6, 6))\n",
        "        venn = venn2([A, B], set_labels=('A', 'B'))\n",
        "\n",
        "        if operation == \"AND (A ∩ B)\":\n",
        "            result = A & B\n",
        "            title = \"Schnittmenge: A ∩ B\"\n",
        "        elif operation == \"OR (A ∪ B)\":\n",
        "            result = A | B\n",
        "            title = \"Vereinigungsmenge: A ∪ B\"\n",
        "        elif operation == \"A AND NOT B (A - B)\":\n",
        "            result = A - B\n",
        "            title = \"A ohne B: A - B\"\n",
        "        elif operation == \"B AND NOT A (B - A)\":\n",
        "            result = B - A\n",
        "            title = \"B ohne A: B - A\"\n",
        "\n",
        "        plt.title(title + f\"\\nErgebnis: {sorted(result)}\")\n",
        "        plt.show()\n",
        "\n",
        "# Event-Handler verbinden\n",
        "widgets.interact(plot_venn, operation=operation_selector)\n",
        "display(output)\n"
      ],
      "metadata": {
        "colab": {
          "base_uri": "https://localhost:8080/",
          "height": 468,
          "referenced_widgets": [
            "e39425bc0bd940a7ba5a5989436b9625",
            "2347275d9e9441368915062e0d4e7f7f",
            "aa24fac03cf84dae8e4205e57963ddff",
            "b911ddd8707a494abe072163fb9d9e08",
            "afacf92a677149b19fc08774c16252cb",
            "0a9b571aa815471a859c5b34f1229538",
            "1c343cb8bdde4597a1fd79136247cdc1",
            "89cb0ae8773f4dd0842c127a5241cb06",
            "76c826fb6bef4182a529498a31449ccb"
          ]
        },
        "id": "WQSLNVYTZfmc",
        "outputId": "fbc72358-2fd3-4a01-d41f-e64ddc733974"
      },
      "execution_count": 5,
      "outputs": [
        {
          "output_type": "display_data",
          "data": {
            "text/plain": [
              "interactive(children=(Dropdown(description='Operation:', layout=Layout(width='60%'), options=('AND (A ∩ B)', '…"
            ],
            "application/vnd.jupyter.widget-view+json": {
              "version_major": 2,
              "version_minor": 0,
              "model_id": "e39425bc0bd940a7ba5a5989436b9625"
            }
          },
          "metadata": {}
        },
        {
          "output_type": "display_data",
          "data": {
            "text/plain": [
              "Output()"
            ],
            "application/vnd.jupyter.widget-view+json": {
              "version_major": 2,
              "version_minor": 0,
              "model_id": "89cb0ae8773f4dd0842c127a5241cb06"
            }
          },
          "metadata": {}
        }
      ]
    },
    {
      "cell_type": "code",
      "source": [
        "# Imports\n",
        "from matplotlib_venn import venn3\n",
        "import matplotlib.pyplot as plt\n",
        "import ipywidgets as widgets\n",
        "from IPython.display import display, clear_output\n",
        "\n",
        "# Beispielmengen\n",
        "A = set([0, 1, 2, 3])\n",
        "B = set([2, 3, 4, 5])\n",
        "C = set([3, 5, 6, 7])\n",
        "\n",
        "# Dropdown zur Auswahl logischer Operationen\n",
        "operation_selector = widgets.Dropdown(\n",
        "    options=[\n",
        "        \"A ∩ B ∩ C\",\n",
        "        \"A ∪ B ∪ C\",\n",
        "        \"Nur A (A - B - C)\",\n",
        "        \"Nur B (B - A - C)\",\n",
        "        \"Nur C (C - A - B)\",\n",
        "        \"A ∩ B (ohne C)\",\n",
        "        \"A ∩ C (ohne B)\",\n",
        "        \"B ∩ C (ohne A)\"\n",
        "    ],\n",
        "    value=\"A ∩ B ∩ C\",\n",
        "    description=\"Operation:\",\n",
        "    style={'description_width': 'initial'},\n",
        "    layout=widgets.Layout(width='70%')\n",
        ")\n",
        "\n",
        "# Ausgabe-Widget\n",
        "output = widgets.Output()\n",
        "\n",
        "# Visualisierungsfunktion\n",
        "def plot_venn(operation):\n",
        "    with output:\n",
        "        clear_output(wait=True)\n",
        "        plt.figure(figsize=(7, 7))\n",
        "        venn = venn3([A, B, C], set_labels=('A', 'B', 'C'))\n",
        "\n",
        "        # Logik für Operationen\n",
        "        if operation == \"A ∩ B ∩ C\":\n",
        "            result = A & B & C\n",
        "            title = \"Schnittmenge aller drei Mengen\"\n",
        "        elif operation == \"A ∪ B ∪ C\":\n",
        "            result = A | B | C\n",
        "            title = \"Vereinigungsmenge aller Mengen\"\n",
        "        elif operation == \"Nur A (A - B - C)\":\n",
        "            result = A - B - C\n",
        "            title = \"Nur in A\"\n",
        "        elif operation == \"Nur B (B - A - C)\":\n",
        "            result = B - A - C\n",
        "            title = \"Nur in B\"\n",
        "        elif operation == \"Nur C (C - A - B)\":\n",
        "            result = C - A - B\n",
        "            title = \"Nur in C\"\n",
        "        elif operation == \"A ∩ B (ohne C)\":\n",
        "            result = (A & B) - C\n",
        "            title = \"A ∩ B ohne C\"\n",
        "        elif operation == \"A ∩ C (ohne B)\":\n",
        "            result = (A & C) - B\n",
        "            title = \"A ∩ C ohne B\"\n",
        "        elif operation == \"B ∩ C (ohne A)\":\n",
        "            result = (B & C) - A\n",
        "            title = \"B ∩ C ohne A\"\n",
        "\n",
        "        # Diagramm mit Ergebnis anzeigen\n",
        "        plt.title(f\"{title}\\nErgebnis: {sorted(result)}\")\n",
        "        plt.savefig(\"venn_output.png\", dpi=300, bbox_inches=\"tight\")  # Speichert im aktuellen Arbeitsverzeichnis\n",
        "        plt.show()\n",
        "\n",
        "# Interaktive Anzeige\n",
        "widgets.interact(plot_venn, operation=operation_selector)\n",
        "display(output)\n"
      ],
      "metadata": {
        "colab": {
          "base_uri": "https://localhost:8080/",
          "height": 621,
          "referenced_widgets": [
            "a55750dd06474d2e82becebf61f9d3d3",
            "15fbf6e9e22f43e781788e3daf088195",
            "e71a101dc27549dbae681bd602de7cbf",
            "f501c455dfab4f3db237947dadcc97b0",
            "a15ffe934f6b46ea93bdfdc4e2e942d2",
            "e790bf05f7494bc7a136e34cea49d7f9",
            "27e2e5b4776a449ea9f6c51f51620b5a",
            "9c265449007a4ea79ebf3dd5ec006191",
            "62bd9f0a68934c3bb020e0627a54c9a2"
          ]
        },
        "id": "RyptgSWvaJFN",
        "outputId": "3ac769d8-2234-4b68-cf0d-e3ef7c3f22d5"
      },
      "execution_count": 7,
      "outputs": [
        {
          "output_type": "display_data",
          "data": {
            "text/plain": [
              "interactive(children=(Dropdown(description='Operation:', layout=Layout(width='70%'), options=('A ∩ B ∩ C', 'A …"
            ],
            "application/vnd.jupyter.widget-view+json": {
              "version_major": 2,
              "version_minor": 0,
              "model_id": "a55750dd06474d2e82becebf61f9d3d3"
            }
          },
          "metadata": {}
        },
        {
          "output_type": "display_data",
          "data": {
            "text/plain": [
              "Output()"
            ],
            "application/vnd.jupyter.widget-view+json": {
              "version_major": 2,
              "version_minor": 0,
              "model_id": "9c265449007a4ea79ebf3dd5ec006191"
            }
          },
          "metadata": {}
        }
      ]
    }
  ]
}